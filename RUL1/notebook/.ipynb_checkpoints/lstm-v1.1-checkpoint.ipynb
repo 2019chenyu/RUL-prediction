{
 "cells": [
  {
   "cell_type": "markdown",
   "metadata": {},
   "source": [
    "# 说明\n",
    "pca(whiten) + lstm(ReduceLROnPlateau)\n",
    "rmse = 14.39127"
   ]
  },
  {
   "cell_type": "code",
   "execution_count": 1,
   "metadata": {},
   "outputs": [
    {
     "name": "stderr",
     "output_type": "stream",
     "text": [
      "/root/anaconda3/lib/python3.6/site-packages/h5py/__init__.py:36: FutureWarning: Conversion of the second argument of issubdtype from `float` to `np.floating` is deprecated. In future, it will be treated as `np.float64 == np.dtype(float).type`.\n",
      "  from ._conv import register_converters as _register_converters\n",
      "Using TensorFlow backend.\n"
     ]
    }
   ],
   "source": [
    "import numpy as np\n",
    "import pandas as pd\n",
    "import matplotlib.pyplot as plt\n",
    "import matplotlib as mpl\n",
    "import tensorflow as tf\n",
    "from numpy.random import RandomState\n",
    "\n",
    "from keras.models import Sequential\n",
    "from keras.layers import Dense,Flatten,LSTM,Dropout,Activation,Bidirectional\n",
    "from keras.callbacks import ReduceLROnPlateau  #学习率自动变化\n",
    "from keras.callbacks import EarlyStopping\n",
    "\n",
    "import time\n",
    "from sklearn import preprocessing\n",
    "from sklearn.model_selection import train_test_split\n",
    "from sklearn.decomposition import PCA"
   ]
  },
  {
   "cell_type": "code",
   "execution_count": 2,
   "metadata": {},
   "outputs": [],
   "source": [
    "#matplotlib inline\n",
    "plt.rcParams['figure.figsize'] = 16,6\n",
    "plt.rcParams['xtick.color'] = 'w'  \n",
    "plt.rcParams['ytick.color'] = 'w'  \n",
    "mpl.style.use('ggplot')"
   ]
  },
  {
   "cell_type": "markdown",
   "metadata": {},
   "source": [
    "## 数据导入和处理"
   ]
  },
  {
   "cell_type": "code",
   "execution_count": 3,
   "metadata": {},
   "outputs": [],
   "source": [
    "train_df_path = r'../data/processed_data/train_df.csv'\n",
    "test_df_path = r'../data/processed_data/test_df.csv'"
   ]
  },
  {
   "cell_type": "code",
   "execution_count": 4,
   "metadata": {},
   "outputs": [],
   "source": [
    "train_df = pd.read_csv(train_df_path,index_col=0) #第一列作为index\n",
    "test_df = pd.read_csv(test_df_path,index_col=0)"
   ]
  },
  {
   "cell_type": "code",
   "execution_count": 5,
   "metadata": {},
   "outputs": [
    {
     "name": "stdout",
     "output_type": "stream",
     "text": [
      "<class 'pandas.core.frame.DataFrame'>\n",
      "Int64Index: 20631 entries, 0 to 20630\n",
      "Data columns (total 28 columns):\n",
      "id            20631 non-null int64\n",
      "cycle         20631 non-null int64\n",
      "setting1      20631 non-null float64\n",
      "setting2      20631 non-null float64\n",
      "setting3      20631 non-null float64\n",
      "s1            20631 non-null float64\n",
      "s2            20631 non-null float64\n",
      "s3            20631 non-null float64\n",
      "s4            20631 non-null float64\n",
      "s5            20631 non-null float64\n",
      "s6            20631 non-null float64\n",
      "s7            20631 non-null float64\n",
      "s8            20631 non-null float64\n",
      "s9            20631 non-null float64\n",
      "s10           20631 non-null float64\n",
      "s11           20631 non-null float64\n",
      "s12           20631 non-null float64\n",
      "s13           20631 non-null float64\n",
      "s14           20631 non-null float64\n",
      "s15           20631 non-null float64\n",
      "s16           20631 non-null float64\n",
      "s17           20631 non-null float64\n",
      "s18           20631 non-null float64\n",
      "s19           20631 non-null float64\n",
      "s20           20631 non-null float64\n",
      "s21           20631 non-null float64\n",
      "RUL           20631 non-null int64\n",
      "cycle_norm    20631 non-null float64\n",
      "dtypes: float64(25), int64(3)\n",
      "memory usage: 4.6 MB\n"
     ]
    }
   ],
   "source": [
    "train_df.info()"
   ]
  },
  {
   "cell_type": "code",
   "execution_count": 6,
   "metadata": {},
   "outputs": [
    {
     "name": "stdout",
     "output_type": "stream",
     "text": [
      "<class 'pandas.core.frame.DataFrame'>\n",
      "Int64Index: 13096 entries, 0 to 13095\n",
      "Data columns (total 28 columns):\n",
      "id            13096 non-null int64\n",
      "cycle         13096 non-null int64\n",
      "setting1      13096 non-null float64\n",
      "setting2      13096 non-null float64\n",
      "setting3      13096 non-null float64\n",
      "s1            13096 non-null float64\n",
      "s2            13096 non-null float64\n",
      "s3            13096 non-null float64\n",
      "s4            13096 non-null float64\n",
      "s5            13096 non-null float64\n",
      "s6            13096 non-null float64\n",
      "s7            13096 non-null float64\n",
      "s8            13096 non-null float64\n",
      "s9            13096 non-null float64\n",
      "s10           13096 non-null float64\n",
      "s11           13096 non-null float64\n",
      "s12           13096 non-null float64\n",
      "s13           13096 non-null float64\n",
      "s14           13096 non-null float64\n",
      "s15           13096 non-null float64\n",
      "s16           13096 non-null float64\n",
      "s17           13096 non-null float64\n",
      "s18           13096 non-null float64\n",
      "s19           13096 non-null float64\n",
      "s20           13096 non-null float64\n",
      "s21           13096 non-null float64\n",
      "cycle_norm    13096 non-null float64\n",
      "RUL           13096 non-null int64\n",
      "dtypes: float64(25), int64(3)\n",
      "memory usage: 2.9 MB\n"
     ]
    }
   ],
   "source": [
    "test_df.info()"
   ]
  },
  {
   "cell_type": "code",
   "execution_count": 7,
   "metadata": {},
   "outputs": [
    {
     "name": "stdout",
     "output_type": "stream",
     "text": [
      "train_df shape: (20631, 28)\n",
      "test_df shape: (13096, 28)\n"
     ]
    }
   ],
   "source": [
    "print(\"train_df shape: {}\".format(train_df.shape))\n",
    "print(\"test_df shape: {}\".format(test_df.shape))"
   ]
  },
  {
   "cell_type": "markdown",
   "metadata": {},
   "source": [
    "## 定义X_train, y_train, X_test, y_train"
   ]
  },
  {
   "cell_type": "code",
   "execution_count": 8,
   "metadata": {},
   "outputs": [
    {
     "name": "stdout",
     "output_type": "stream",
     "text": [
      "    s1        s2        s3        s4   s5   s6        s7        s8        s9  \\\n",
      "0  0.0  0.183735  0.406802  0.309757  0.0  1.0  0.726248  0.242424  0.109755   \n",
      "1  0.0  0.283133  0.453019  0.352633  0.0  1.0  0.628019  0.212121  0.100242   \n",
      "2  0.0  0.343373  0.369523  0.370527  0.0  1.0  0.710145  0.272727  0.140043   \n",
      "3  0.0  0.343373  0.256159  0.331195  0.0  1.0  0.740741  0.318182  0.124518   \n",
      "4  0.0  0.349398  0.257467  0.404625  0.0  1.0  0.668277  0.242424  0.149960   \n",
      "\n",
      "   s10    ...          s12       s13       s14       s15  s16       s17  s18  \\\n",
      "0  0.0    ...     0.633262  0.205882  0.199608  0.363986  0.0  0.333333  0.0   \n",
      "1  0.0    ...     0.765458  0.279412  0.162813  0.411312  0.0  0.333333  0.0   \n",
      "2  0.0    ...     0.795309  0.220588  0.171793  0.357445  0.0  0.166667  0.0   \n",
      "3  0.0    ...     0.889126  0.294118  0.174889  0.166603  0.0  0.333333  0.0   \n",
      "4  0.0    ...     0.746269  0.235294  0.174734  0.402078  0.0  0.416667  0.0   \n",
      "\n",
      "   s19       s20       s21  \n",
      "0  0.0  0.713178  0.724662  \n",
      "1  0.0  0.666667  0.731014  \n",
      "2  0.0  0.627907  0.621375  \n",
      "3  0.0  0.573643  0.662386  \n",
      "4  0.0  0.589147  0.704502  \n",
      "\n",
      "[5 rows x 21 columns]\n",
      "    s1        s2        s3        s4   s5   s6        s7        s8        s9  \\\n",
      "0  0.0  0.545181  0.310661  0.269413  0.0  1.0  0.652174  0.212121  0.127614   \n",
      "1  0.0  0.150602  0.379551  0.222316  0.0  1.0  0.805153  0.166667  0.146684   \n",
      "2  0.0  0.376506  0.346632  0.322248  0.0  1.0  0.685990  0.227273  0.158081   \n",
      "3  0.0  0.370482  0.285154  0.408001  0.0  1.0  0.679549  0.196970  0.105717   \n",
      "4  0.0  0.391566  0.352082  0.332039  0.0  1.0  0.694042  0.166667  0.102396   \n",
      "\n",
      "   s10    ...          s12       s13       s14       s15  s16       s17  s18  \\\n",
      "0  0.0    ...     0.646055  0.220588  0.132160  0.308965  0.0  0.333333  0.0   \n",
      "1  0.0    ...     0.739872  0.264706  0.204768  0.213159  0.0  0.416667  0.0   \n",
      "2  0.0    ...     0.699360  0.220588  0.155640  0.458638  0.0  0.416667  0.0   \n",
      "3  0.0    ...     0.573561  0.250000  0.170090  0.257022  0.0  0.250000  0.0   \n",
      "4  0.0    ...     0.737740  0.220588  0.152751  0.300885  0.0  0.166667  0.0   \n",
      "\n",
      "   s19       s20       s21  \n",
      "0  0.0  0.558140  0.661834  \n",
      "1  0.0  0.682171  0.686827  \n",
      "2  0.0  0.728682  0.721348  \n",
      "3  0.0  0.666667  0.662110  \n",
      "4  0.0  0.658915  0.716377  \n",
      "\n",
      "[5 rows x 21 columns]\n",
      "(20631, 21) (20631,) (13096, 21) (13096,)\n"
     ]
    }
   ],
   "source": [
    "X_train = train_df.iloc[:,5:26]\n",
    "y_train = train_df.iloc[:,-2]\n",
    "print(X_train.head())\n",
    "X_train = np.array(X_train)\n",
    "y_train = np.array(y_train)\n",
    "\n",
    "X_test = test_df.iloc[:,5:26]\n",
    "y_test = test_df.iloc[:,-1]#注意，当前用的数据中测试集的RUL是最后一列!!!\n",
    "print(X_test.head())\n",
    "X_test = np.array(X_test)\n",
    "y_test = np.array(y_test)\n",
    "\n",
    "print(X_train.shape, y_train.shape, X_test.shape, y_test.shape)"
   ]
  },
  {
   "cell_type": "markdown",
   "metadata": {},
   "source": [
    "## PCA降维"
   ]
  },
  {
   "cell_type": "code",
   "execution_count": 9,
   "metadata": {},
   "outputs": [],
   "source": [
    "pca = PCA(n_components=17,random_state=2019,whiten=True)\n",
    "X_all = np.concatenate((X_train,X_test))\n",
    "pca.fit(X_all,y=None)\n",
    "X_all = pca.transform(X_all)\n",
    "X_train = X_all[0:len(X_train)]\n",
    "X_test = X_all[len(X_train):]"
   ]
  },
  {
   "cell_type": "markdown",
   "metadata": {},
   "source": [
    "## 利用降维后的结果修改train_df和test_df"
   ]
  },
  {
   "cell_type": "code",
   "execution_count": 10,
   "metadata": {},
   "outputs": [
    {
     "data": {
      "text/html": [
       "<div>\n",
       "<style scoped>\n",
       "    .dataframe tbody tr th:only-of-type {\n",
       "        vertical-align: middle;\n",
       "    }\n",
       "\n",
       "    .dataframe tbody tr th {\n",
       "        vertical-align: top;\n",
       "    }\n",
       "\n",
       "    .dataframe thead th {\n",
       "        text-align: right;\n",
       "    }\n",
       "</style>\n",
       "<table border=\"1\" class=\"dataframe\">\n",
       "  <thead>\n",
       "    <tr style=\"text-align: right;\">\n",
       "      <th></th>\n",
       "      <th>id</th>\n",
       "      <th>cycle</th>\n",
       "      <th>setting1</th>\n",
       "      <th>setting2</th>\n",
       "      <th>setting3</th>\n",
       "      <th>s1</th>\n",
       "      <th>s2</th>\n",
       "      <th>s3</th>\n",
       "      <th>s4</th>\n",
       "      <th>s5</th>\n",
       "      <th>...</th>\n",
       "      <th>s10</th>\n",
       "      <th>s11</th>\n",
       "      <th>s12</th>\n",
       "      <th>s13</th>\n",
       "      <th>s14</th>\n",
       "      <th>s15</th>\n",
       "      <th>s16</th>\n",
       "      <th>s17</th>\n",
       "      <th>RUL</th>\n",
       "      <th>cycle_norm</th>\n",
       "    </tr>\n",
       "  </thead>\n",
       "  <tbody>\n",
       "    <tr>\n",
       "      <th>0</th>\n",
       "      <td>1</td>\n",
       "      <td>1</td>\n",
       "      <td>0.459770</td>\n",
       "      <td>0.166667</td>\n",
       "      <td>0.0</td>\n",
       "      <td>-0.826283</td>\n",
       "      <td>-0.360368</td>\n",
       "      <td>-0.307907</td>\n",
       "      <td>1.708733</td>\n",
       "      <td>0.617990</td>\n",
       "      <td>...</td>\n",
       "      <td>-0.415656</td>\n",
       "      <td>1.581991</td>\n",
       "      <td>-1.097665</td>\n",
       "      <td>-0.543626</td>\n",
       "      <td>-1.035850</td>\n",
       "      <td>2.055952</td>\n",
       "      <td>1.965156</td>\n",
       "      <td>-2.393101</td>\n",
       "      <td>130</td>\n",
       "      <td>0.00000</td>\n",
       "    </tr>\n",
       "    <tr>\n",
       "      <th>1</th>\n",
       "      <td>1</td>\n",
       "      <td>2</td>\n",
       "      <td>0.609195</td>\n",
       "      <td>0.250000</td>\n",
       "      <td>0.0</td>\n",
       "      <td>-0.633908</td>\n",
       "      <td>-0.334690</td>\n",
       "      <td>-0.449735</td>\n",
       "      <td>1.029912</td>\n",
       "      <td>1.277539</td>\n",
       "      <td>...</td>\n",
       "      <td>0.079132</td>\n",
       "      <td>-1.037911</td>\n",
       "      <td>-1.579254</td>\n",
       "      <td>-0.835387</td>\n",
       "      <td>0.646985</td>\n",
       "      <td>0.957085</td>\n",
       "      <td>-3.615404</td>\n",
       "      <td>1.761810</td>\n",
       "      <td>130</td>\n",
       "      <td>0.00277</td>\n",
       "    </tr>\n",
       "    <tr>\n",
       "      <th>2</th>\n",
       "      <td>1</td>\n",
       "      <td>3</td>\n",
       "      <td>0.252874</td>\n",
       "      <td>0.750000</td>\n",
       "      <td>0.0</td>\n",
       "      <td>-0.856117</td>\n",
       "      <td>-0.356498</td>\n",
       "      <td>-0.321465</td>\n",
       "      <td>-0.066746</td>\n",
       "      <td>0.701872</td>\n",
       "      <td>...</td>\n",
       "      <td>1.209733</td>\n",
       "      <td>-0.872911</td>\n",
       "      <td>-0.241203</td>\n",
       "      <td>0.636756</td>\n",
       "      <td>-1.066338</td>\n",
       "      <td>-0.418668</td>\n",
       "      <td>-0.196789</td>\n",
       "      <td>-4.328744</td>\n",
       "      <td>130</td>\n",
       "      <td>0.00554</td>\n",
       "    </tr>\n",
       "    <tr>\n",
       "      <th>3</th>\n",
       "      <td>1</td>\n",
       "      <td>4</td>\n",
       "      <td>0.540230</td>\n",
       "      <td>0.500000</td>\n",
       "      <td>0.0</td>\n",
       "      <td>-1.109612</td>\n",
       "      <td>-0.434670</td>\n",
       "      <td>-0.548429</td>\n",
       "      <td>-0.666365</td>\n",
       "      <td>-0.284196</td>\n",
       "      <td>...</td>\n",
       "      <td>1.646878</td>\n",
       "      <td>-1.533354</td>\n",
       "      <td>-0.174045</td>\n",
       "      <td>2.858392</td>\n",
       "      <td>-0.285043</td>\n",
       "      <td>0.316058</td>\n",
       "      <td>-0.854331</td>\n",
       "      <td>12.166083</td>\n",
       "      <td>130</td>\n",
       "      <td>0.00831</td>\n",
       "    </tr>\n",
       "    <tr>\n",
       "      <th>4</th>\n",
       "      <td>1</td>\n",
       "      <td>5</td>\n",
       "      <td>0.390805</td>\n",
       "      <td>0.333333</td>\n",
       "      <td>0.0</td>\n",
       "      <td>-0.666161</td>\n",
       "      <td>-0.318335</td>\n",
       "      <td>-0.173361</td>\n",
       "      <td>-0.417577</td>\n",
       "      <td>-0.852232</td>\n",
       "      <td>...</td>\n",
       "      <td>1.159257</td>\n",
       "      <td>-0.750711</td>\n",
       "      <td>0.343688</td>\n",
       "      <td>-0.169913</td>\n",
       "      <td>-0.470195</td>\n",
       "      <td>-0.658681</td>\n",
       "      <td>0.827163</td>\n",
       "      <td>-4.771826</td>\n",
       "      <td>130</td>\n",
       "      <td>0.01108</td>\n",
       "    </tr>\n",
       "  </tbody>\n",
       "</table>\n",
       "<p>5 rows × 24 columns</p>\n",
       "</div>"
      ],
      "text/plain": [
       "   id  cycle  setting1  setting2  setting3        s1        s2        s3  \\\n",
       "0   1      1  0.459770  0.166667       0.0 -0.826283 -0.360368 -0.307907   \n",
       "1   1      2  0.609195  0.250000       0.0 -0.633908 -0.334690 -0.449735   \n",
       "2   1      3  0.252874  0.750000       0.0 -0.856117 -0.356498 -0.321465   \n",
       "3   1      4  0.540230  0.500000       0.0 -1.109612 -0.434670 -0.548429   \n",
       "4   1      5  0.390805  0.333333       0.0 -0.666161 -0.318335 -0.173361   \n",
       "\n",
       "         s4        s5     ...           s10       s11       s12       s13  \\\n",
       "0  1.708733  0.617990     ...     -0.415656  1.581991 -1.097665 -0.543626   \n",
       "1  1.029912  1.277539     ...      0.079132 -1.037911 -1.579254 -0.835387   \n",
       "2 -0.066746  0.701872     ...      1.209733 -0.872911 -0.241203  0.636756   \n",
       "3 -0.666365 -0.284196     ...      1.646878 -1.533354 -0.174045  2.858392   \n",
       "4 -0.417577 -0.852232     ...      1.159257 -0.750711  0.343688 -0.169913   \n",
       "\n",
       "        s14       s15       s16        s17  RUL  cycle_norm  \n",
       "0 -1.035850  2.055952  1.965156  -2.393101  130     0.00000  \n",
       "1  0.646985  0.957085 -3.615404   1.761810  130     0.00277  \n",
       "2 -1.066338 -0.418668 -0.196789  -4.328744  130     0.00554  \n",
       "3 -0.285043  0.316058 -0.854331  12.166083  130     0.00831  \n",
       "4 -0.470195 -0.658681  0.827163  -4.771826  130     0.01108  \n",
       "\n",
       "[5 rows x 24 columns]"
      ]
     },
     "execution_count": 10,
     "metadata": {},
     "output_type": "execute_result"
    }
   ],
   "source": [
    "train_df_new = train_df.iloc[:,0:5]\n",
    "X_train_df = pd.DataFrame(X_train)\n",
    "X_train_df.columns = ['s' + str(i) for i in range(1, X_train.shape[1]+1)]\n",
    "train_df_new = pd.concat([train_df_new,X_train_df,train_df.iloc[:,26:]],axis=1)\n",
    "\n",
    "train_df_new.head()"
   ]
  },
  {
   "cell_type": "code",
   "execution_count": 11,
   "metadata": {},
   "outputs": [
    {
     "data": {
      "text/html": [
       "<div>\n",
       "<style scoped>\n",
       "    .dataframe tbody tr th:only-of-type {\n",
       "        vertical-align: middle;\n",
       "    }\n",
       "\n",
       "    .dataframe tbody tr th {\n",
       "        vertical-align: top;\n",
       "    }\n",
       "\n",
       "    .dataframe thead th {\n",
       "        text-align: right;\n",
       "    }\n",
       "</style>\n",
       "<table border=\"1\" class=\"dataframe\">\n",
       "  <thead>\n",
       "    <tr style=\"text-align: right;\">\n",
       "      <th></th>\n",
       "      <th>id</th>\n",
       "      <th>cycle</th>\n",
       "      <th>setting1</th>\n",
       "      <th>setting2</th>\n",
       "      <th>setting3</th>\n",
       "      <th>s1</th>\n",
       "      <th>s2</th>\n",
       "      <th>s3</th>\n",
       "      <th>s4</th>\n",
       "      <th>s5</th>\n",
       "      <th>...</th>\n",
       "      <th>s10</th>\n",
       "      <th>s11</th>\n",
       "      <th>s12</th>\n",
       "      <th>s13</th>\n",
       "      <th>s14</th>\n",
       "      <th>s15</th>\n",
       "      <th>s16</th>\n",
       "      <th>s17</th>\n",
       "      <th>cycle_norm</th>\n",
       "      <th>RUL</th>\n",
       "    </tr>\n",
       "  </thead>\n",
       "  <tbody>\n",
       "    <tr>\n",
       "      <th>0</th>\n",
       "      <td>1</td>\n",
       "      <td>1</td>\n",
       "      <td>0.632184</td>\n",
       "      <td>0.750000</td>\n",
       "      <td>0.0</td>\n",
       "      <td>-0.638987</td>\n",
       "      <td>-0.328047</td>\n",
       "      <td>-0.470120</td>\n",
       "      <td>-2.192837</td>\n",
       "      <td>0.602357</td>\n",
       "      <td>...</td>\n",
       "      <td>-0.804969</td>\n",
       "      <td>0.271288</td>\n",
       "      <td>1.595867</td>\n",
       "      <td>-0.898203</td>\n",
       "      <td>-0.380712</td>\n",
       "      <td>-1.536370</td>\n",
       "      <td>3.412980</td>\n",
       "      <td>-7.293071</td>\n",
       "      <td>0.00000</td>\n",
       "      <td>142</td>\n",
       "    </tr>\n",
       "    <tr>\n",
       "      <th>1</th>\n",
       "      <td>1</td>\n",
       "      <td>2</td>\n",
       "      <td>0.344828</td>\n",
       "      <td>0.250000</td>\n",
       "      <td>0.0</td>\n",
       "      <td>-1.093961</td>\n",
       "      <td>-0.377703</td>\n",
       "      <td>0.080496</td>\n",
       "      <td>1.794657</td>\n",
       "      <td>0.189204</td>\n",
       "      <td>...</td>\n",
       "      <td>-0.427401</td>\n",
       "      <td>1.607500</td>\n",
       "      <td>-2.646701</td>\n",
       "      <td>-0.156569</td>\n",
       "      <td>1.160481</td>\n",
       "      <td>0.578826</td>\n",
       "      <td>0.184974</td>\n",
       "      <td>2.700583</td>\n",
       "      <td>0.00277</td>\n",
       "      <td>141</td>\n",
       "    </tr>\n",
       "    <tr>\n",
       "      <th>2</th>\n",
       "      <td>1</td>\n",
       "      <td>3</td>\n",
       "      <td>0.517241</td>\n",
       "      <td>0.583333</td>\n",
       "      <td>0.0</td>\n",
       "      <td>-0.601294</td>\n",
       "      <td>-0.302300</td>\n",
       "      <td>-0.149673</td>\n",
       "      <td>-0.366875</td>\n",
       "      <td>0.353327</td>\n",
       "      <td>...</td>\n",
       "      <td>-0.177945</td>\n",
       "      <td>0.370348</td>\n",
       "      <td>-1.442806</td>\n",
       "      <td>-1.013640</td>\n",
       "      <td>-0.610653</td>\n",
       "      <td>-1.762483</td>\n",
       "      <td>2.737695</td>\n",
       "      <td>-11.211459</td>\n",
       "      <td>0.00554</td>\n",
       "      <td>140</td>\n",
       "    </tr>\n",
       "    <tr>\n",
       "      <th>3</th>\n",
       "      <td>1</td>\n",
       "      <td>4</td>\n",
       "      <td>0.741379</td>\n",
       "      <td>0.500000</td>\n",
       "      <td>0.0</td>\n",
       "      <td>-0.747613</td>\n",
       "      <td>-0.374428</td>\n",
       "      <td>-0.675629</td>\n",
       "      <td>-0.625004</td>\n",
       "      <td>0.053537</td>\n",
       "      <td>...</td>\n",
       "      <td>0.231447</td>\n",
       "      <td>1.164927</td>\n",
       "      <td>1.340872</td>\n",
       "      <td>-0.828948</td>\n",
       "      <td>0.340225</td>\n",
       "      <td>0.998930</td>\n",
       "      <td>2.839604</td>\n",
       "      <td>-3.301892</td>\n",
       "      <td>0.00831</td>\n",
       "      <td>139</td>\n",
       "    </tr>\n",
       "    <tr>\n",
       "      <th>4</th>\n",
       "      <td>1</td>\n",
       "      <td>5</td>\n",
       "      <td>0.580460</td>\n",
       "      <td>0.500000</td>\n",
       "      <td>0.0</td>\n",
       "      <td>-0.982434</td>\n",
       "      <td>-0.400705</td>\n",
       "      <td>-0.507044</td>\n",
       "      <td>-0.793189</td>\n",
       "      <td>1.214892</td>\n",
       "      <td>...</td>\n",
       "      <td>0.171112</td>\n",
       "      <td>-0.247865</td>\n",
       "      <td>-0.193909</td>\n",
       "      <td>-1.153077</td>\n",
       "      <td>0.338790</td>\n",
       "      <td>0.249137</td>\n",
       "      <td>0.791069</td>\n",
       "      <td>-7.094530</td>\n",
       "      <td>0.01108</td>\n",
       "      <td>138</td>\n",
       "    </tr>\n",
       "  </tbody>\n",
       "</table>\n",
       "<p>5 rows × 24 columns</p>\n",
       "</div>"
      ],
      "text/plain": [
       "   id  cycle  setting1  setting2  setting3        s1        s2        s3  \\\n",
       "0   1      1  0.632184  0.750000       0.0 -0.638987 -0.328047 -0.470120   \n",
       "1   1      2  0.344828  0.250000       0.0 -1.093961 -0.377703  0.080496   \n",
       "2   1      3  0.517241  0.583333       0.0 -0.601294 -0.302300 -0.149673   \n",
       "3   1      4  0.741379  0.500000       0.0 -0.747613 -0.374428 -0.675629   \n",
       "4   1      5  0.580460  0.500000       0.0 -0.982434 -0.400705 -0.507044   \n",
       "\n",
       "         s4        s5 ...        s10       s11       s12       s13       s14  \\\n",
       "0 -2.192837  0.602357 ...  -0.804969  0.271288  1.595867 -0.898203 -0.380712   \n",
       "1  1.794657  0.189204 ...  -0.427401  1.607500 -2.646701 -0.156569  1.160481   \n",
       "2 -0.366875  0.353327 ...  -0.177945  0.370348 -1.442806 -1.013640 -0.610653   \n",
       "3 -0.625004  0.053537 ...   0.231447  1.164927  1.340872 -0.828948  0.340225   \n",
       "4 -0.793189  1.214892 ...   0.171112 -0.247865 -0.193909 -1.153077  0.338790   \n",
       "\n",
       "        s15       s16        s17  cycle_norm  RUL  \n",
       "0 -1.536370  3.412980  -7.293071     0.00000  142  \n",
       "1  0.578826  0.184974   2.700583     0.00277  141  \n",
       "2 -1.762483  2.737695 -11.211459     0.00554  140  \n",
       "3  0.998930  2.839604  -3.301892     0.00831  139  \n",
       "4  0.249137  0.791069  -7.094530     0.01108  138  \n",
       "\n",
       "[5 rows x 24 columns]"
      ]
     },
     "execution_count": 11,
     "metadata": {},
     "output_type": "execute_result"
    }
   ],
   "source": [
    "test_df_new = test_df.iloc[:,0:5]\n",
    "X_test_df = pd.DataFrame(X_test)\n",
    "X_test_df.columns = ['s' + str(i) for i in range(1, X_test.shape[1]+1)]\n",
    "test_df_new = pd.concat([test_df_new,X_test_df,test_df.iloc[:,26:]],axis=1)\n",
    "\n",
    "test_df_new.head()"
   ]
  },
  {
   "cell_type": "markdown",
   "metadata": {},
   "source": [
    "## 采用时间窗分割的方式改变数据的维度"
   ]
  },
  {
   "cell_type": "code",
   "execution_count": 12,
   "metadata": {},
   "outputs": [],
   "source": [
    "sequence_length = 30\n",
    "\n",
    "# 将数据格式变为(样本循环次数, 时间窗大小：30, 特征数)\n",
    "def gen_sequence(id_df, seq_length, seq_cols):\n",
    "    data_array = id_df[seq_cols].values\n",
    "    num_elements = data_array.shape[0]\n",
    "    for start, stop in zip(\n",
    "            range(0, num_elements - seq_length), range(seq_length,\n",
    "                                                       num_elements)):\n",
    "        yield data_array[start:stop, :]\n",
    "\n",
    "\n",
    "# 选择特征列\n",
    "sensor_cols = ['s' + str(i) for i in range(1, 22)]\n",
    "sequence_cols = ['setting1', 'setting2', 'setting3', 'cycle_norm']\n",
    "sequence_cols.extend(sensor_cols)\n",
    "\n",
    "# seq_array为用上函数生成的数组，其形状为(15631, 30, 25)\n",
    "seq_gen = (list(\n",
    "    gen_sequence(train_df[train_df['id'] == id], sequence_length,\n",
    "                 sequence_cols)) for id in train_df['id'].unique())\n",
    "seq_array = np.concatenate(list(seq_gen)).astype(np.float32)\n",
    "\n",
    "\n",
    "# 对应数据格式生成标签\n",
    "def gen_labels(id_df, seq_length, label):\n",
    "    data_array = id_df[label].values\n",
    "    num_elements = data_array.shape[0]\n",
    "    return data_array[seq_length:num_elements, :]\n",
    "\n",
    "\n",
    "# 标签的形状为(15631, 1)\n",
    "label_gen = [\n",
    "    gen_labels(train_df[train_df['id'] == id], sequence_length, ['RUL'])\n",
    "    for id in train_df['id'].unique()\n",
    "]\n",
    "label_array = np.concatenate(label_gen).astype(np.float32)\n",
    "\n",
    "# 生成test数据的最后一个序列，形状为(93, 50, 25)，不足100是因为有些测试集小于50\n",
    "seq_array_test_last = [\n",
    "    test_df[test_df['id'] == id][sequence_cols].values[-sequence_length:]\n",
    "    for id in test_df['id'].unique()\n",
    "    if len(test_df[test_df['id'] == id]) >= sequence_length\n",
    "]\n",
    "seq_array_test_last = np.asarray(seq_array_test_last).astype(np.float32)\n",
    "\n",
    "# 对应生成test的label，形状为(93, 1)\n",
    "y_mask = [\n",
    "    len(test_df[test_df['id'] == id]) >= sequence_length\n",
    "    for id in test_df['id'].unique()\n",
    "]\n",
    "label_array_test_last = test_df.groupby('id')['RUL'].nth(-1)[y_mask].values\n",
    "label_array_test_last = label_array_test_last.reshape(\n",
    "    label_array_test_last.shape[0], 1).astype(np.float32)\n",
    "# 建模##############################################\n",
    "\n",
    "nb_features = seq_array.shape[2]\n",
    "# nb_features == 25\n",
    "nb_out = label_array.shape[1]\n",
    "# nb_out ==1"
   ]
  },
  {
   "cell_type": "code",
   "execution_count": 13,
   "metadata": {
    "scrolled": true
   },
   "outputs": [
    {
     "name": "stdout",
     "output_type": "stream",
     "text": [
      "seq_array shape: (17631, 30, 25)\n",
      "label_array shape: (17631, 1)\n",
      "seq_array_test_last: (100, 30, 25)\n",
      "label_array_test_last: (100, 1)\n"
     ]
    }
   ],
   "source": [
    "print(\"seq_array shape: {}\".format(seq_array.shape))\n",
    "print(\"label_array shape: {}\".format(label_array.shape))\n",
    "print(\"seq_array_test_last: {}\".format(seq_array_test_last.shape))\n",
    "print(\"label_array_test_last: {}\".format(label_array_test_last.shape))"
   ]
  },
  {
   "cell_type": "code",
   "execution_count": 14,
   "metadata": {},
   "outputs": [],
   "source": [
    "X_train = seq_array\n",
    "y_train = label_array\n",
    "X_test = seq_array_test_last\n",
    "y_test = label_array_test_last"
   ]
  },
  {
   "cell_type": "code",
   "execution_count": 15,
   "metadata": {},
   "outputs": [
    {
     "name": "stdout",
     "output_type": "stream",
     "text": [
      "(17631, 30, 25) (17631, 1) (100, 30, 25) (100, 1)\n"
     ]
    }
   ],
   "source": [
    "print(X_train.shape, y_train.shape, X_test.shape, y_test.shape)"
   ]
  },
  {
   "cell_type": "markdown",
   "metadata": {},
   "source": [
    "现在X_train, y_train, X_test, y_test已经准备好了"
   ]
  },
  {
   "cell_type": "markdown",
   "metadata": {},
   "source": [
    "## 模型构建"
   ]
  },
  {
   "cell_type": "markdown",
   "metadata": {},
   "source": [
    "我们可以看到LSTM（）层必须指定输入的形状。而且每个LSTM层的输入必须是三维的。这输入的三个维度是：\n",
    "\n",
    "- samples。一个序列是一个样本。批次由一个或多个样本组成。\n",
    "\n",
    "- timesteps。一个时间步代表样本中的一个观察点。timesteps可以理解为循环神经网络认为每个输入数据与前多少个连续输入的数据有联系\n",
    "\n",
    "- features。一个特征是在一个时间步长的观察得到的。\n",
    "- 学习率。"
   ]
  },
  {
   "cell_type": "code",
   "execution_count": 16,
   "metadata": {},
   "outputs": [],
   "source": [
    "model = Sequential()"
   ]
  },
  {
   "cell_type": "code",
   "execution_count": 17,
   "metadata": {},
   "outputs": [],
   "source": [
    "model.add(\n",
    "    Bidirectional(LSTM(\n",
    "        50,\n",
    "        input_shape=(X_train.shape[1], X_train.shape[2]),\n",
    "        return_sequences=False)))\n",
    "model.add(Activation('tanh'))\n",
    "model.add(Dropout(0.4))\n",
    "\n",
    "#model.add(LSTM(40)\n",
    "#model.add(Activation('tanh'))\n",
    "#model.add(Dropout(0.2))\n",
    "model.add(Dense(50))\n",
    "model.add(Activation('tanh')) #不能用relu,否则容易梯度爆炸\n",
    "#model.add(Dropout(0.2))\n",
    "model.add(Dense(1))  \n",
    "model.add(Activation('linear'))\n",
    "\n",
    "model.compile(loss='mse', optimizer='adam')#rmsprop和adam差别不大"
   ]
  },
  {
   "cell_type": "markdown",
   "metadata": {},
   "source": [
    "## 模型训练"
   ]
  },
  {
   "cell_type": "markdown",
   "metadata": {},
   "source": [
    "可以调节的地方：\n",
    "- 训练时是否shuffle\n",
    "- LSTM神经元个数\n",
    "- timesteps\n",
    "- LSTM层数\n",
    "- batchsize\n",
    "- K折交叉验证"
   ]
  },
  {
   "cell_type": "code",
   "execution_count": 18,
   "metadata": {},
   "outputs": [
    {
     "name": "stdout",
     "output_type": "stream",
     "text": [
      "Train on 12341 samples, validate on 5290 samples\n",
      "Epoch 1/40\n",
      "12341/12341 [==============================] - 16s 1ms/step - loss: 5277.2137 - val_loss: 4106.9816\n",
      "Epoch 2/40\n",
      "12341/12341 [==============================] - 14s 1ms/step - loss: 2961.3136 - val_loss: 2583.5413\n",
      "Epoch 3/40\n",
      "12341/12341 [==============================] - 14s 1ms/step - loss: 2115.2696 - val_loss: 2072.3518\n",
      "Epoch 4/40\n",
      "12341/12341 [==============================] - 14s 1ms/step - loss: 1897.4239 - val_loss: 1950.0823\n",
      "Epoch 5/40\n",
      "12341/12341 [==============================] - 14s 1ms/step - loss: 1862.5680 - val_loss: 1926.3908\n",
      "Epoch 6/40\n",
      "12341/12341 [==============================] - 14s 1ms/step - loss: 1388.9963 - val_loss: 887.7349\n",
      "Epoch 7/40\n",
      "12341/12341 [==============================] - 14s 1ms/step - loss: 601.3519 - val_loss: 498.8804\n",
      "Epoch 8/40\n",
      "12341/12341 [==============================] - 14s 1ms/step - loss: 393.0391 - val_loss: 363.8027\n",
      "Epoch 9/40\n",
      "12341/12341 [==============================] - 14s 1ms/step - loss: 302.5265 - val_loss: 317.0515\n",
      "Epoch 10/40\n",
      "12341/12341 [==============================] - 14s 1ms/step - loss: 258.1735 - val_loss: 236.4820\n",
      "Epoch 11/40\n",
      "12341/12341 [==============================] - 14s 1ms/step - loss: 234.1789 - val_loss: 230.1999\n",
      "Epoch 12/40\n",
      "12341/12341 [==============================] - 14s 1ms/step - loss: 222.2591 - val_loss: 190.9776\n",
      "Epoch 13/40\n",
      "12341/12341 [==============================] - 14s 1ms/step - loss: 216.8154 - val_loss: 231.3706\n",
      "Epoch 14/40\n",
      "12341/12341 [==============================] - 14s 1ms/step - loss: 203.6707 - val_loss: 197.4905\n",
      "Epoch 15/40\n",
      "12341/12341 [==============================] - 14s 1ms/step - loss: 202.3071 - val_loss: 227.8803\n",
      "Epoch 16/40\n",
      "12341/12341 [==============================] - 14s 1ms/step - loss: 195.0857 - val_loss: 206.9162\n",
      "Epoch 17/40\n",
      "12341/12341 [==============================] - 14s 1ms/step - loss: 194.8235 - val_loss: 220.8244\n",
      "\n",
      "Epoch 00017: ReduceLROnPlateau reducing learning rate to 0.00010000000474974513.\n",
      "Epoch 18/40\n",
      "12341/12341 [==============================] - 14s 1ms/step - loss: 171.2549 - val_loss: 189.7812\n",
      "Epoch 19/40\n",
      "12341/12341 [==============================] - 14s 1ms/step - loss: 166.3101 - val_loss: 183.1685\n",
      "Epoch 20/40\n",
      "12341/12341 [==============================] - 14s 1ms/step - loss: 163.9530 - val_loss: 188.3585\n",
      "Epoch 21/40\n",
      "12341/12341 [==============================] - 14s 1ms/step - loss: 164.4886 - val_loss: 183.7215\n",
      "Epoch 22/40\n",
      "12341/12341 [==============================] - 14s 1ms/step - loss: 164.0938 - val_loss: 189.0441\n",
      "Epoch 23/40\n",
      "12341/12341 [==============================] - 14s 1ms/step - loss: 162.2043 - val_loss: 191.8049\n",
      "Epoch 24/40\n",
      "12341/12341 [==============================] - 14s 1ms/step - loss: 162.5520 - val_loss: 190.2046\n",
      "\n",
      "Epoch 00024: ReduceLROnPlateau reducing learning rate to 1.0000000474974514e-05.\n",
      "Epoch 25/40\n",
      "12341/12341 [==============================] - 14s 1ms/step - loss: 159.7902 - val_loss: 185.9999\n",
      "Epoch 26/40\n",
      "12341/12341 [==============================] - 14s 1ms/step - loss: 158.8440 - val_loss: 187.6747\n",
      "Epoch 27/40\n",
      "12341/12341 [==============================] - 14s 1ms/step - loss: 159.6999 - val_loss: 187.7598\n",
      "Epoch 28/40\n",
      "12341/12341 [==============================] - 14s 1ms/step - loss: 158.4248 - val_loss: 185.9754\n",
      "Epoch 29/40\n",
      "12341/12341 [==============================] - 14s 1ms/step - loss: 158.6635 - val_loss: 186.7827\n",
      "\n",
      "Epoch 00029: ReduceLROnPlateau reducing learning rate to 1.0000000656873453e-06.\n",
      "Epoch 30/40\n",
      "12341/12341 [==============================] - 14s 1ms/step - loss: 159.0106 - val_loss: 186.8333\n",
      "Epoch 31/40\n",
      "12341/12341 [==============================] - 14s 1ms/step - loss: 158.1914 - val_loss: 186.6415\n",
      "Epoch 32/40\n",
      "12341/12341 [==============================] - 14s 1ms/step - loss: 157.8106 - val_loss: 186.6617\n",
      "Epoch 33/40\n",
      "12341/12341 [==============================] - 14s 1ms/step - loss: 157.3045 - val_loss: 186.5821\n",
      "Epoch 34/40\n",
      "12341/12341 [==============================] - 14s 1ms/step - loss: 158.3666 - val_loss: 186.3029\n",
      "\n",
      "Epoch 00034: ReduceLROnPlateau reducing learning rate to 1.0000001111620805e-07.\n",
      "Epoch 35/40\n",
      "12341/12341 [==============================] - 14s 1ms/step - loss: 158.4351 - val_loss: 186.3089\n",
      "Epoch 36/40\n",
      "12341/12341 [==============================] - 14s 1ms/step - loss: 158.4363 - val_loss: 186.3179\n",
      "Epoch 37/40\n",
      "12341/12341 [==============================] - 14s 1ms/step - loss: 157.6030 - val_loss: 186.3316\n",
      "Epoch 38/40\n",
      "12341/12341 [==============================] - 14s 1ms/step - loss: 159.0826 - val_loss: 186.3180\n",
      "Epoch 39/40\n",
      "12341/12341 [==============================] - 14s 1ms/step - loss: 157.5572 - val_loss: 186.3503\n",
      "\n",
      "Epoch 00039: ReduceLROnPlateau reducing learning rate to 1.000000082740371e-08.\n",
      "Epoch 40/40\n",
      "12341/12341 [==============================] - 14s 1ms/step - loss: 156.3651 - val_loss: 186.3507\n",
      "Training time: 30.77 minutes\n"
     ]
    }
   ],
   "source": [
    "#10个epoch loss不下降，就降低学习率\n",
    "reduce_lr = ReduceLROnPlateau(monitor='val_loss', patience=5,verbose=1,mode='auto')\n",
    "#early_stopping = EarlyStopping(monitor='val_loss', patience=10, verbose=1)\n",
    "\n",
    "start_time = time.clock()\n",
    "history = model.fit(\n",
    "    X_train,\n",
    "    y_train,\n",
    "    epochs=40,\n",
    "    batch_size=20, #从100降到了10  一般来说，小batch精度更高，但是训练速度更慢\n",
    "    validation_split=0.3,\n",
    "    #validation_data=(X_valid, y_valid),\n",
    "    callbacks=[reduce_lr],\n",
    "    verbose=1,\n",
    "    shuffle=True)  #shuffle=False比True时测试集rmse降低了1\n",
    "end_time = time.clock()\n",
    "print(\"Training time: {:.4} minutes\".format((end_time - start_time) / 60))"
   ]
  },
  {
   "cell_type": "code",
   "execution_count": 19,
   "metadata": {},
   "outputs": [
    {
     "data": {
      "image/png": "[encoded data removed]",
      "text/plain": [
       "<Figure size 1152x432 with 1 Axes>"
      ]
     },
     "metadata": {},
     "output_type": "display_data"
    }
   ],
   "source": [
    "plt.plot(history.history['loss'], label='train')\n",
    "plt.plot(history.history['val_loss'], label='val') \n",
    "plt.legend()  \n",
    "plt.show()"
   ]
  },
  {
   "cell_type": "markdown",
   "metadata": {},
   "source": [
    "## 模型评估"
   ]
  },
  {
   "cell_type": "code",
   "execution_count": 20,
   "metadata": {},
   "outputs": [],
   "source": [
    "y_pred = model.predict(X_test)"
   ]
  },
  {
   "cell_type": "code",
   "execution_count": 21,
   "metadata": {},
   "outputs": [],
   "source": [
    "def rmse(predictions,targets):\n",
    "    return np.sqrt(((predictions-targets)**2).mean())"
   ]
  },
  {
   "cell_type": "code",
   "execution_count": 22,
   "metadata": {},
   "outputs": [],
   "source": [
    "my_rmse = rmse(y_pred,y_test)"
   ]
  },
  {
   "cell_type": "code",
   "execution_count": 23,
   "metadata": {},
   "outputs": [
    {
     "name": "stdout",
     "output_type": "stream",
     "text": [
      "Train rmse: 12.50460392690325\n",
      "Validation rmse: 13.651034302011814\n",
      "Test rmse: 14.39127254486084\n"
     ]
    }
   ],
   "source": [
    "print(\"Train rmse: {}\".format(np.sqrt(history.history['loss'][-1])))\n",
    "print(\"Validation rmse: {}\".format(np.sqrt(history.history['val_loss'][-1])))\n",
    "print(\"Test rmse: {}\".format(my_rmse))"
   ]
  },
  {
   "cell_type": "code",
   "execution_count": 24,
   "metadata": {},
   "outputs": [
    {
     "name": "stdout",
     "output_type": "stream",
     "text": [
      "_________________________________________________________________\n",
      "Layer (type)                 Output Shape              Param #   \n",
      "=================================================================\n",
      "bidirectional_1 (Bidirection (None, 100)               30400     \n",
      "_________________________________________________________________\n",
      "activation_1 (Activation)    (None, 100)               0         \n",
      "_________________________________________________________________\n",
      "dropout_1 (Dropout)          (None, 100)               0         \n",
      "_________________________________________________________________\n",
      "dense_1 (Dense)              (None, 50)                5050      \n",
      "_________________________________________________________________\n",
      "activation_2 (Activation)    (None, 50)                0         \n",
      "_________________________________________________________________\n",
      "dense_2 (Dense)              (None, 1)                 51        \n",
      "_________________________________________________________________\n",
      "activation_3 (Activation)    (None, 1)                 0         \n",
      "=================================================================\n",
      "Total params: 35,501\n",
      "Trainable params: 35,501\n",
      "Non-trainable params: 0\n",
      "_________________________________________________________________\n"
     ]
    }
   ],
   "source": [
    "model.summary()"
   ]
  }
 ],
 "metadata": {
  "kernelspec": {
   "display_name": "Python 3",
   "language": "python",
   "name": "python3"
  },
  "language_info": {
   "codemirror_mode": {
    "name": "ipython",
    "version": 3
   },
   "file_extension": ".py",
   "mimetype": "text/x-python",
   "name": "python",
   "nbconvert_exporter": "python",
   "pygments_lexer": "ipython3",
   "version": "3.6.5"
  },
  "toc": {
   "base_numbering": 1,
   "nav_menu": {},
   "number_sections": true,
   "sideBar": true,
   "skip_h1_title": false,
   "title_cell": "Table of Contents",
   "title_sidebar": "Contents",
   "toc_cell": false,
   "toc_position": {
    "height": "689px",
    "left": "25px",
    "top": "180px",
    "width": "212px"
   },
   "toc_section_display": true,
   "toc_window_display": false
  },
  "varInspector": {
   "cols": {
    "lenName": 16,
    "lenType": 16,
    "lenVar": 40
   },
   "kernels_config": {
    "python": {
     "delete_cmd_postfix": "",
     "delete_cmd_prefix": "del ",
     "library": "var_list.py",
     "varRefreshCmd": "print(var_dic_list())"
    },
    "r": {
     "delete_cmd_postfix": ") ",
     "delete_cmd_prefix": "rm(",
     "library": "var_list.r",
     "varRefreshCmd": "cat(var_dic_list()) "
    }
   },
   "position": {
    "height": "144px",
    "left": "931px",
    "right": "20px",
    "top": "21px",
    "width": "350px"
   },
   "types_to_exclude": [
    "module",
    "function",
    "builtin_function_or_method",
    "instance",
    "_Feature"
   ],
   "window_display": false
  }
 },
 "nbformat": 4,
 "nbformat_minor": 2
}

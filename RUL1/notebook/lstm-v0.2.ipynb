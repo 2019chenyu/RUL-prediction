{
 "cells": [
  {
   "cell_type": "code",
   "execution_count": 1,
   "metadata": {},
   "outputs": [
    {
     "name": "stderr",
     "output_type": "stream",
     "text": [
      "/root/anaconda3/lib/python3.6/site-packages/h5py/__init__.py:36: FutureWarning: Conversion of the second argument of issubdtype from `float` to `np.floating` is deprecated. In future, it will be treated as `np.float64 == np.dtype(float).type`.\n",
      "  from ._conv import register_converters as _register_converters\n",
      "Using TensorFlow backend.\n"
     ]
    }
   ],
   "source": [
    "import numpy as np\n",
    "import pandas as pd\n",
    "import matplotlib.pyplot as plt\n",
    "import matplotlib as mpl\n",
    "import tensorflow as tf\n",
    "\n",
    "from keras.models import Sequential\n",
    "from keras.layers import Dense,Flatten,LSTM,Dropout,Activation,Bidirectional\n",
    "import time\n",
    "from sklearn import preprocessing\n",
    "from sklearn.model_selection import train_test_split"
   ]
  },
  {
   "cell_type": "code",
   "execution_count": 2,
   "metadata": {},
   "outputs": [],
   "source": [
    "#matplotlib inline\n",
    "plt.rcParams['figure.figsize'] = 16,6\n",
    "plt.rcParams['xtick.color'] = 'w'  \n",
    "plt.rcParams['ytick.color'] = 'w'  \n",
    "mpl.style.use('ggplot')"
   ]
  },
  {
   "cell_type": "markdown",
   "metadata": {},
   "source": [
    "## 数据导入和处理"
   ]
  },
  {
   "cell_type": "code",
   "execution_count": 3,
   "metadata": {},
   "outputs": [],
   "source": [
    "train_df_path = r'../data/processed_data/train_df.csv'\n",
    "test_df_path = r'../data/processed_data/test_df.csv'"
   ]
  },
  {
   "cell_type": "code",
   "execution_count": 4,
   "metadata": {},
   "outputs": [],
   "source": [
    "train_df = pd.read_csv(train_df_path,index_col=0) #第一列作为index\n",
    "test_df = pd.read_csv(test_df_path,index_col=0)"
   ]
  },
  {
   "cell_type": "code",
   "execution_count": 5,
   "metadata": {},
   "outputs": [
    {
     "name": "stdout",
     "output_type": "stream",
     "text": [
      "<class 'pandas.core.frame.DataFrame'>\n",
      "Int64Index: 20631 entries, 0 to 20630\n",
      "Data columns (total 28 columns):\n",
      "id            20631 non-null int64\n",
      "cycle         20631 non-null int64\n",
      "setting1      20631 non-null float64\n",
      "setting2      20631 non-null float64\n",
      "setting3      20631 non-null float64\n",
      "s1            20631 non-null float64\n",
      "s2            20631 non-null float64\n",
      "s3            20631 non-null float64\n",
      "s4            20631 non-null float64\n",
      "s5            20631 non-null float64\n",
      "s6            20631 non-null float64\n",
      "s7            20631 non-null float64\n",
      "s8            20631 non-null float64\n",
      "s9            20631 non-null float64\n",
      "s10           20631 non-null float64\n",
      "s11           20631 non-null float64\n",
      "s12           20631 non-null float64\n",
      "s13           20631 non-null float64\n",
      "s14           20631 non-null float64\n",
      "s15           20631 non-null float64\n",
      "s16           20631 non-null float64\n",
      "s17           20631 non-null float64\n",
      "s18           20631 non-null float64\n",
      "s19           20631 non-null float64\n",
      "s20           20631 non-null float64\n",
      "s21           20631 non-null float64\n",
      "RUL           20631 non-null int64\n",
      "cycle_norm    20631 non-null float64\n",
      "dtypes: float64(25), int64(3)\n",
      "memory usage: 4.6 MB\n"
     ]
    }
   ],
   "source": [
    "train_df.info()"
   ]
  },
  {
   "cell_type": "code",
   "execution_count": 6,
   "metadata": {},
   "outputs": [
    {
     "data": {
      "text/html": [
       "<div>\n",
       "<style scoped>\n",
       "    .dataframe tbody tr th:only-of-type {\n",
       "        vertical-align: middle;\n",
       "    }\n",
       "\n",
       "    .dataframe tbody tr th {\n",
       "        vertical-align: top;\n",
       "    }\n",
       "\n",
       "    .dataframe thead th {\n",
       "        text-align: right;\n",
       "    }\n",
       "</style>\n",
       "<table border=\"1\" class=\"dataframe\">\n",
       "  <thead>\n",
       "    <tr style=\"text-align: right;\">\n",
       "      <th></th>\n",
       "      <th>id</th>\n",
       "      <th>cycle</th>\n",
       "      <th>setting1</th>\n",
       "      <th>setting2</th>\n",
       "      <th>setting3</th>\n",
       "      <th>s1</th>\n",
       "      <th>s2</th>\n",
       "      <th>s3</th>\n",
       "      <th>s4</th>\n",
       "      <th>s5</th>\n",
       "      <th>...</th>\n",
       "      <th>s14</th>\n",
       "      <th>s15</th>\n",
       "      <th>s16</th>\n",
       "      <th>s17</th>\n",
       "      <th>s18</th>\n",
       "      <th>s19</th>\n",
       "      <th>s20</th>\n",
       "      <th>s21</th>\n",
       "      <th>RUL</th>\n",
       "      <th>cycle_norm</th>\n",
       "    </tr>\n",
       "  </thead>\n",
       "  <tbody>\n",
       "    <tr>\n",
       "      <th>0</th>\n",
       "      <td>1</td>\n",
       "      <td>1</td>\n",
       "      <td>0.459770</td>\n",
       "      <td>0.166667</td>\n",
       "      <td>0.0</td>\n",
       "      <td>0.0</td>\n",
       "      <td>0.183735</td>\n",
       "      <td>0.406802</td>\n",
       "      <td>0.309757</td>\n",
       "      <td>0.0</td>\n",
       "      <td>...</td>\n",
       "      <td>0.199608</td>\n",
       "      <td>0.363986</td>\n",
       "      <td>0.0</td>\n",
       "      <td>0.333333</td>\n",
       "      <td>0.0</td>\n",
       "      <td>0.0</td>\n",
       "      <td>0.713178</td>\n",
       "      <td>0.724662</td>\n",
       "      <td>130</td>\n",
       "      <td>0.00000</td>\n",
       "    </tr>\n",
       "    <tr>\n",
       "      <th>1</th>\n",
       "      <td>1</td>\n",
       "      <td>2</td>\n",
       "      <td>0.609195</td>\n",
       "      <td>0.250000</td>\n",
       "      <td>0.0</td>\n",
       "      <td>0.0</td>\n",
       "      <td>0.283133</td>\n",
       "      <td>0.453019</td>\n",
       "      <td>0.352633</td>\n",
       "      <td>0.0</td>\n",
       "      <td>...</td>\n",
       "      <td>0.162813</td>\n",
       "      <td>0.411312</td>\n",
       "      <td>0.0</td>\n",
       "      <td>0.333333</td>\n",
       "      <td>0.0</td>\n",
       "      <td>0.0</td>\n",
       "      <td>0.666667</td>\n",
       "      <td>0.731014</td>\n",
       "      <td>130</td>\n",
       "      <td>0.00277</td>\n",
       "    </tr>\n",
       "    <tr>\n",
       "      <th>2</th>\n",
       "      <td>1</td>\n",
       "      <td>3</td>\n",
       "      <td>0.252874</td>\n",
       "      <td>0.750000</td>\n",
       "      <td>0.0</td>\n",
       "      <td>0.0</td>\n",
       "      <td>0.343373</td>\n",
       "      <td>0.369523</td>\n",
       "      <td>0.370527</td>\n",
       "      <td>0.0</td>\n",
       "      <td>...</td>\n",
       "      <td>0.171793</td>\n",
       "      <td>0.357445</td>\n",
       "      <td>0.0</td>\n",
       "      <td>0.166667</td>\n",
       "      <td>0.0</td>\n",
       "      <td>0.0</td>\n",
       "      <td>0.627907</td>\n",
       "      <td>0.621375</td>\n",
       "      <td>130</td>\n",
       "      <td>0.00554</td>\n",
       "    </tr>\n",
       "    <tr>\n",
       "      <th>3</th>\n",
       "      <td>1</td>\n",
       "      <td>4</td>\n",
       "      <td>0.540230</td>\n",
       "      <td>0.500000</td>\n",
       "      <td>0.0</td>\n",
       "      <td>0.0</td>\n",
       "      <td>0.343373</td>\n",
       "      <td>0.256159</td>\n",
       "      <td>0.331195</td>\n",
       "      <td>0.0</td>\n",
       "      <td>...</td>\n",
       "      <td>0.174889</td>\n",
       "      <td>0.166603</td>\n",
       "      <td>0.0</td>\n",
       "      <td>0.333333</td>\n",
       "      <td>0.0</td>\n",
       "      <td>0.0</td>\n",
       "      <td>0.573643</td>\n",
       "      <td>0.662386</td>\n",
       "      <td>130</td>\n",
       "      <td>0.00831</td>\n",
       "    </tr>\n",
       "    <tr>\n",
       "      <th>4</th>\n",
       "      <td>1</td>\n",
       "      <td>5</td>\n",
       "      <td>0.390805</td>\n",
       "      <td>0.333333</td>\n",
       "      <td>0.0</td>\n",
       "      <td>0.0</td>\n",
       "      <td>0.349398</td>\n",
       "      <td>0.257467</td>\n",
       "      <td>0.404625</td>\n",
       "      <td>0.0</td>\n",
       "      <td>...</td>\n",
       "      <td>0.174734</td>\n",
       "      <td>0.402078</td>\n",
       "      <td>0.0</td>\n",
       "      <td>0.416667</td>\n",
       "      <td>0.0</td>\n",
       "      <td>0.0</td>\n",
       "      <td>0.589147</td>\n",
       "      <td>0.704502</td>\n",
       "      <td>130</td>\n",
       "      <td>0.01108</td>\n",
       "    </tr>\n",
       "  </tbody>\n",
       "</table>\n",
       "<p>5 rows × 28 columns</p>\n",
       "</div>"
      ],
      "text/plain": [
       "   id  cycle  setting1  setting2  setting3   s1        s2        s3        s4  \\\n",
       "0   1      1  0.459770  0.166667       0.0  0.0  0.183735  0.406802  0.309757   \n",
       "1   1      2  0.609195  0.250000       0.0  0.0  0.283133  0.453019  0.352633   \n",
       "2   1      3  0.252874  0.750000       0.0  0.0  0.343373  0.369523  0.370527   \n",
       "3   1      4  0.540230  0.500000       0.0  0.0  0.343373  0.256159  0.331195   \n",
       "4   1      5  0.390805  0.333333       0.0  0.0  0.349398  0.257467  0.404625   \n",
       "\n",
       "    s5     ...           s14       s15  s16       s17  s18  s19       s20  \\\n",
       "0  0.0     ...      0.199608  0.363986  0.0  0.333333  0.0  0.0  0.713178   \n",
       "1  0.0     ...      0.162813  0.411312  0.0  0.333333  0.0  0.0  0.666667   \n",
       "2  0.0     ...      0.171793  0.357445  0.0  0.166667  0.0  0.0  0.627907   \n",
       "3  0.0     ...      0.174889  0.166603  0.0  0.333333  0.0  0.0  0.573643   \n",
       "4  0.0     ...      0.174734  0.402078  0.0  0.416667  0.0  0.0  0.589147   \n",
       "\n",
       "        s21  RUL  cycle_norm  \n",
       "0  0.724662  130     0.00000  \n",
       "1  0.731014  130     0.00277  \n",
       "2  0.621375  130     0.00554  \n",
       "3  0.662386  130     0.00831  \n",
       "4  0.704502  130     0.01108  \n",
       "\n",
       "[5 rows x 28 columns]"
      ]
     },
     "execution_count": 6,
     "metadata": {},
     "output_type": "execute_result"
    }
   ],
   "source": [
    "train_df.head()"
   ]
  },
  {
   "cell_type": "code",
   "execution_count": 7,
   "metadata": {},
   "outputs": [
    {
     "data": {
      "text/html": [
       "<div>\n",
       "<style scoped>\n",
       "    .dataframe tbody tr th:only-of-type {\n",
       "        vertical-align: middle;\n",
       "    }\n",
       "\n",
       "    .dataframe tbody tr th {\n",
       "        vertical-align: top;\n",
       "    }\n",
       "\n",
       "    .dataframe thead th {\n",
       "        text-align: right;\n",
       "    }\n",
       "</style>\n",
       "<table border=\"1\" class=\"dataframe\">\n",
       "  <thead>\n",
       "    <tr style=\"text-align: right;\">\n",
       "      <th></th>\n",
       "      <th>id</th>\n",
       "      <th>cycle</th>\n",
       "      <th>setting1</th>\n",
       "      <th>setting2</th>\n",
       "      <th>setting3</th>\n",
       "      <th>s1</th>\n",
       "      <th>s2</th>\n",
       "      <th>s3</th>\n",
       "      <th>s4</th>\n",
       "      <th>s5</th>\n",
       "      <th>...</th>\n",
       "      <th>s14</th>\n",
       "      <th>s15</th>\n",
       "      <th>s16</th>\n",
       "      <th>s17</th>\n",
       "      <th>s18</th>\n",
       "      <th>s19</th>\n",
       "      <th>s20</th>\n",
       "      <th>s21</th>\n",
       "      <th>cycle_norm</th>\n",
       "      <th>RUL</th>\n",
       "    </tr>\n",
       "  </thead>\n",
       "  <tbody>\n",
       "    <tr>\n",
       "      <th>0</th>\n",
       "      <td>1</td>\n",
       "      <td>1</td>\n",
       "      <td>0.632184</td>\n",
       "      <td>0.750000</td>\n",
       "      <td>0.0</td>\n",
       "      <td>0.0</td>\n",
       "      <td>0.545181</td>\n",
       "      <td>0.310661</td>\n",
       "      <td>0.269413</td>\n",
       "      <td>0.0</td>\n",
       "      <td>...</td>\n",
       "      <td>0.132160</td>\n",
       "      <td>0.308965</td>\n",
       "      <td>0.0</td>\n",
       "      <td>0.333333</td>\n",
       "      <td>0.0</td>\n",
       "      <td>0.0</td>\n",
       "      <td>0.558140</td>\n",
       "      <td>0.661834</td>\n",
       "      <td>0.00000</td>\n",
       "      <td>142</td>\n",
       "    </tr>\n",
       "    <tr>\n",
       "      <th>1</th>\n",
       "      <td>1</td>\n",
       "      <td>2</td>\n",
       "      <td>0.344828</td>\n",
       "      <td>0.250000</td>\n",
       "      <td>0.0</td>\n",
       "      <td>0.0</td>\n",
       "      <td>0.150602</td>\n",
       "      <td>0.379551</td>\n",
       "      <td>0.222316</td>\n",
       "      <td>0.0</td>\n",
       "      <td>...</td>\n",
       "      <td>0.204768</td>\n",
       "      <td>0.213159</td>\n",
       "      <td>0.0</td>\n",
       "      <td>0.416667</td>\n",
       "      <td>0.0</td>\n",
       "      <td>0.0</td>\n",
       "      <td>0.682171</td>\n",
       "      <td>0.686827</td>\n",
       "      <td>0.00277</td>\n",
       "      <td>141</td>\n",
       "    </tr>\n",
       "    <tr>\n",
       "      <th>2</th>\n",
       "      <td>1</td>\n",
       "      <td>3</td>\n",
       "      <td>0.517241</td>\n",
       "      <td>0.583333</td>\n",
       "      <td>0.0</td>\n",
       "      <td>0.0</td>\n",
       "      <td>0.376506</td>\n",
       "      <td>0.346632</td>\n",
       "      <td>0.322248</td>\n",
       "      <td>0.0</td>\n",
       "      <td>...</td>\n",
       "      <td>0.155640</td>\n",
       "      <td>0.458638</td>\n",
       "      <td>0.0</td>\n",
       "      <td>0.416667</td>\n",
       "      <td>0.0</td>\n",
       "      <td>0.0</td>\n",
       "      <td>0.728682</td>\n",
       "      <td>0.721348</td>\n",
       "      <td>0.00554</td>\n",
       "      <td>140</td>\n",
       "    </tr>\n",
       "    <tr>\n",
       "      <th>3</th>\n",
       "      <td>1</td>\n",
       "      <td>4</td>\n",
       "      <td>0.741379</td>\n",
       "      <td>0.500000</td>\n",
       "      <td>0.0</td>\n",
       "      <td>0.0</td>\n",
       "      <td>0.370482</td>\n",
       "      <td>0.285154</td>\n",
       "      <td>0.408001</td>\n",
       "      <td>0.0</td>\n",
       "      <td>...</td>\n",
       "      <td>0.170090</td>\n",
       "      <td>0.257022</td>\n",
       "      <td>0.0</td>\n",
       "      <td>0.250000</td>\n",
       "      <td>0.0</td>\n",
       "      <td>0.0</td>\n",
       "      <td>0.666667</td>\n",
       "      <td>0.662110</td>\n",
       "      <td>0.00831</td>\n",
       "      <td>139</td>\n",
       "    </tr>\n",
       "    <tr>\n",
       "      <th>4</th>\n",
       "      <td>1</td>\n",
       "      <td>5</td>\n",
       "      <td>0.580460</td>\n",
       "      <td>0.500000</td>\n",
       "      <td>0.0</td>\n",
       "      <td>0.0</td>\n",
       "      <td>0.391566</td>\n",
       "      <td>0.352082</td>\n",
       "      <td>0.332039</td>\n",
       "      <td>0.0</td>\n",
       "      <td>...</td>\n",
       "      <td>0.152751</td>\n",
       "      <td>0.300885</td>\n",
       "      <td>0.0</td>\n",
       "      <td>0.166667</td>\n",
       "      <td>0.0</td>\n",
       "      <td>0.0</td>\n",
       "      <td>0.658915</td>\n",
       "      <td>0.716377</td>\n",
       "      <td>0.01108</td>\n",
       "      <td>138</td>\n",
       "    </tr>\n",
       "  </tbody>\n",
       "</table>\n",
       "<p>5 rows × 28 columns</p>\n",
       "</div>"
      ],
      "text/plain": [
       "   id  cycle  setting1  setting2  setting3   s1        s2        s3        s4  \\\n",
       "0   1      1  0.632184  0.750000       0.0  0.0  0.545181  0.310661  0.269413   \n",
       "1   1      2  0.344828  0.250000       0.0  0.0  0.150602  0.379551  0.222316   \n",
       "2   1      3  0.517241  0.583333       0.0  0.0  0.376506  0.346632  0.322248   \n",
       "3   1      4  0.741379  0.500000       0.0  0.0  0.370482  0.285154  0.408001   \n",
       "4   1      5  0.580460  0.500000       0.0  0.0  0.391566  0.352082  0.332039   \n",
       "\n",
       "    s5 ...        s14       s15  s16       s17  s18  s19       s20       s21  \\\n",
       "0  0.0 ...   0.132160  0.308965  0.0  0.333333  0.0  0.0  0.558140  0.661834   \n",
       "1  0.0 ...   0.204768  0.213159  0.0  0.416667  0.0  0.0  0.682171  0.686827   \n",
       "2  0.0 ...   0.155640  0.458638  0.0  0.416667  0.0  0.0  0.728682  0.721348   \n",
       "3  0.0 ...   0.170090  0.257022  0.0  0.250000  0.0  0.0  0.666667  0.662110   \n",
       "4  0.0 ...   0.152751  0.300885  0.0  0.166667  0.0  0.0  0.658915  0.716377   \n",
       "\n",
       "   cycle_norm  RUL  \n",
       "0     0.00000  142  \n",
       "1     0.00277  141  \n",
       "2     0.00554  140  \n",
       "3     0.00831  139  \n",
       "4     0.01108  138  \n",
       "\n",
       "[5 rows x 28 columns]"
      ]
     },
     "execution_count": 7,
     "metadata": {},
     "output_type": "execute_result"
    }
   ],
   "source": [
    "test_df.head()"
   ]
  },
  {
   "cell_type": "code",
   "execution_count": 8,
   "metadata": {},
   "outputs": [
    {
     "name": "stdout",
     "output_type": "stream",
     "text": [
      "    s1        s2        s3        s4   s5   s6        s7        s8        s9  \\\n",
      "0  0.0  0.183735  0.406802  0.309757  0.0  1.0  0.726248  0.242424  0.109755   \n",
      "1  0.0  0.283133  0.453019  0.352633  0.0  1.0  0.628019  0.212121  0.100242   \n",
      "2  0.0  0.343373  0.369523  0.370527  0.0  1.0  0.710145  0.272727  0.140043   \n",
      "3  0.0  0.343373  0.256159  0.331195  0.0  1.0  0.740741  0.318182  0.124518   \n",
      "4  0.0  0.349398  0.257467  0.404625  0.0  1.0  0.668277  0.242424  0.149960   \n",
      "\n",
      "   s10    ...          s12       s13       s14       s15  s16       s17  s18  \\\n",
      "0  0.0    ...     0.633262  0.205882  0.199608  0.363986  0.0  0.333333  0.0   \n",
      "1  0.0    ...     0.765458  0.279412  0.162813  0.411312  0.0  0.333333  0.0   \n",
      "2  0.0    ...     0.795309  0.220588  0.171793  0.357445  0.0  0.166667  0.0   \n",
      "3  0.0    ...     0.889126  0.294118  0.174889  0.166603  0.0  0.333333  0.0   \n",
      "4  0.0    ...     0.746269  0.235294  0.174734  0.402078  0.0  0.416667  0.0   \n",
      "\n",
      "   s19       s20       s21  \n",
      "0  0.0  0.713178  0.724662  \n",
      "1  0.0  0.666667  0.731014  \n",
      "2  0.0  0.627907  0.621375  \n",
      "3  0.0  0.573643  0.662386  \n",
      "4  0.0  0.589147  0.704502  \n",
      "\n",
      "[5 rows x 21 columns]\n"
     ]
    }
   ],
   "source": [
    "X_train = train_df.iloc[:,5:26]\n",
    "y_train = train_df.iloc[:,-2]\n",
    "print(X_train.head())\n",
    "X_train = np.array(X_train)\n",
    "y_train = np.array(y_train)"
   ]
  },
  {
   "cell_type": "code",
   "execution_count": 9,
   "metadata": {},
   "outputs": [
    {
     "name": "stdout",
     "output_type": "stream",
     "text": [
      "    s1        s2        s3        s4   s5   s6        s7        s8        s9  \\\n",
      "0  0.0  0.545181  0.310661  0.269413  0.0  1.0  0.652174  0.212121  0.127614   \n",
      "1  0.0  0.150602  0.379551  0.222316  0.0  1.0  0.805153  0.166667  0.146684   \n",
      "2  0.0  0.376506  0.346632  0.322248  0.0  1.0  0.685990  0.227273  0.158081   \n",
      "3  0.0  0.370482  0.285154  0.408001  0.0  1.0  0.679549  0.196970  0.105717   \n",
      "4  0.0  0.391566  0.352082  0.332039  0.0  1.0  0.694042  0.166667  0.102396   \n",
      "\n",
      "   s10    ...          s12       s13       s14       s15  s16       s17  s18  \\\n",
      "0  0.0    ...     0.646055  0.220588  0.132160  0.308965  0.0  0.333333  0.0   \n",
      "1  0.0    ...     0.739872  0.264706  0.204768  0.213159  0.0  0.416667  0.0   \n",
      "2  0.0    ...     0.699360  0.220588  0.155640  0.458638  0.0  0.416667  0.0   \n",
      "3  0.0    ...     0.573561  0.250000  0.170090  0.257022  0.0  0.250000  0.0   \n",
      "4  0.0    ...     0.737740  0.220588  0.152751  0.300885  0.0  0.166667  0.0   \n",
      "\n",
      "   s19       s20       s21  \n",
      "0  0.0  0.558140  0.661834  \n",
      "1  0.0  0.682171  0.686827  \n",
      "2  0.0  0.728682  0.721348  \n",
      "3  0.0  0.666667  0.662110  \n",
      "4  0.0  0.658915  0.716377  \n",
      "\n",
      "[5 rows x 21 columns]\n"
     ]
    }
   ],
   "source": [
    "X_test = test_df.iloc[:,5:26]\n",
    "y_test = test_df.iloc[:,-1]#注意，当前用的数据中测试集的RUL是最后一列!!!\n",
    "print(X_test.head())\n",
    "X_test = np.array(X_test)\n",
    "y_test = np.array(y_test)"
   ]
  },
  {
   "cell_type": "markdown",
   "metadata": {},
   "source": [
    "**数据标准化**\n",
    "\n",
    "**注意：lstm-v1.ipynb使用归一化，效果不如标准化好。因为归一化受异常点的影响太大了。**"
   ]
  },
  {
   "cell_type": "code",
   "execution_count": 10,
   "metadata": {},
   "outputs": [],
   "source": [
    "#min_max_scalar = preprocessing.MinMaxScaler()\n",
    "standard_scalar = preprocessing.StandardScaler()\n",
    "X_train = standard_scalar.fit_transform(X_train)\n",
    "X_test = standard_scalar.fit_transform(X_test)"
   ]
  },
  {
   "cell_type": "code",
   "execution_count": 11,
   "metadata": {},
   "outputs": [
    {
     "name": "stderr",
     "output_type": "stream",
     "text": [
      "/root/anaconda3/lib/python3.6/site-packages/sklearn/model_selection/_split.py:2026: FutureWarning: From version 0.21, test_size will always complement train_size unless both are specified.\n",
      "  FutureWarning)\n"
     ]
    }
   ],
   "source": [
    "X_train, X_valid, y_train, y_valid = train_test_split(\n",
    "    X_train, y_train, train_size=0.7,random_state=2019,shuffle=True)"
   ]
  },
  {
   "cell_type": "code",
   "execution_count": 12,
   "metadata": {},
   "outputs": [
    {
     "name": "stdout",
     "output_type": "stream",
     "text": [
      "(14441, 21) (14441,) (6190, 21) (6190,) (13096, 21) (13096,)\n"
     ]
    }
   ],
   "source": [
    "print(X_train.shape, y_train.shape, X_valid.shape, y_valid.shape, X_test.shape,\n",
    "      y_test.shape)"
   ]
  },
  {
   "cell_type": "markdown",
   "metadata": {},
   "source": [
    "现在X_train, y_train, X_test, y_test已经准备好了"
   ]
  },
  {
   "cell_type": "markdown",
   "metadata": {},
   "source": [
    "## 模型构建"
   ]
  },
  {
   "cell_type": "markdown",
   "metadata": {},
   "source": [
    "我们可以看到LSTM（）层必须指定输入的形状。而且每个LSTM层的输入必须是三维的。这输入的三个维度是：\n",
    "\n",
    "- samples。一个序列是一个样本。批次由一个或多个样本组成。\n",
    "\n",
    "- timesteps。一个时间步代表样本中的一个观察点。timesteps可以理解为循环神经网络认为每个输入数据与前多少个连续输入的数据有联系\n",
    "\n",
    "- features。一个特征是在一个时间步长的观察得到的。"
   ]
  },
  {
   "cell_type": "code",
   "execution_count": 13,
   "metadata": {},
   "outputs": [
    {
     "name": "stdout",
     "output_type": "stream",
     "text": [
      "Number of training samples:14441\n",
      "Number of validation samples:6190\n",
      "Number of testing samples:13096\n",
      "(14441, 1, 21) (14441, 1) (13096, 1, 21) (13096, 1)\n"
     ]
    }
   ],
   "source": [
    "# 数据改造成LSTM输入的格式\n",
    "\n",
    "timesteps = 1\n",
    "\n",
    "samples_num_train = X_train.shape[0]//timesteps\n",
    "samples_num_valid = X_valid.shape[0]//timesteps\n",
    "samples_num_test = X_test.shape[0]//timesteps\n",
    "\n",
    "print(\"Number of training samples:{}\".format(samples_num_train))\n",
    "print(\"Number of validation samples:{}\".format(samples_num_valid))\n",
    "print(\"Number of testing samples:{}\".format(samples_num_test))\n",
    "\n",
    "X_train = X_train.reshape((samples_num_train,timesteps,X_train.shape[1]))\n",
    "X_valid = X_valid.reshape((samples_num_valid,timesteps,X_valid.shape[1]))\n",
    "X_test = X_test.reshape((samples_num_test,timesteps,X_test.shape[1]))\n",
    "\n",
    "y_train = y_train.reshape((samples_num_train,timesteps))\n",
    "y_valid = y_valid.reshape((samples_num_valid,timesteps))\n",
    "y_test = y_test.reshape((samples_num_test,timesteps))\n",
    "\n",
    "print(X_train.shape,y_train.shape,X_test.shape,y_test.shape)"
   ]
  },
  {
   "cell_type": "code",
   "execution_count": 14,
   "metadata": {},
   "outputs": [],
   "source": [
    "model = Sequential()"
   ]
  },
  {
   "cell_type": "code",
   "execution_count": 15,
   "metadata": {},
   "outputs": [],
   "source": [
    "model.add(\n",
    "    Bidirectional(LSTM(\n",
    "        50,\n",
    "        input_shape=(X_train.shape[1], X_train.shape[2]),\n",
    "        return_sequences=False)))\n",
    "model.add(Activation('tanh'))\n",
    "model.add(Dropout(0.4))\n",
    "\n",
    "#model.add(LSTM(40)\n",
    "#model.add(Activation('tanh'))\n",
    "#model.add(Dropout(0.2))\n",
    "model.add(Dense(50))\n",
    "model.add(Activation('tanh')) #不能用relu,否则容易梯度爆炸\n",
    "model.add(Dropout(0.2))\n",
    "model.add(Dense(1))\n",
    "model.add(Activation('linear'))\n",
    "\n",
    "model.compile(loss='mse', optimizer='adam')#rmsprop和adam差别不大"
   ]
  },
  {
   "cell_type": "markdown",
   "metadata": {},
   "source": [
    "## 模型训练"
   ]
  },
  {
   "cell_type": "code",
   "execution_count": 16,
   "metadata": {},
   "outputs": [
    {
     "name": "stdout",
     "output_type": "stream",
     "text": [
      "Train on 14441 samples, validate on 6190 samples\n",
      "Epoch 1/50\n",
      "14441/14441 [==============================] - 2s 147us/step - loss: 8429.9769 - val_loss: 7106.8735\n",
      "Epoch 2/50\n",
      "14441/14441 [==============================] - 1s 38us/step - loss: 6180.8084 - val_loss: 5600.9063\n",
      "Epoch 3/50\n",
      "14441/14441 [==============================] - 1s 39us/step - loss: 5052.9197 - val_loss: 4711.8348\n",
      "Epoch 4/50\n",
      "14441/14441 [==============================] - 1s 40us/step - loss: 4287.5168 - val_loss: 4040.3517\n",
      "Epoch 5/50\n",
      "14441/14441 [==============================] - 1s 39us/step - loss: 3694.1546 - val_loss: 3511.4851\n",
      "Epoch 6/50\n",
      "14441/14441 [==============================] - 1s 41us/step - loss: 3226.8271 - val_loss: 3034.4534\n",
      "Epoch 7/50\n",
      "14441/14441 [==============================] - 1s 40us/step - loss: 2664.6151 - val_loss: 2410.4925\n",
      "Epoch 8/50\n",
      "14441/14441 [==============================] - 1s 40us/step - loss: 2189.2123 - val_loss: 2022.6899\n",
      "Epoch 9/50\n",
      "14441/14441 [==============================] - 1s 40us/step - loss: 1840.1152 - val_loss: 1699.4026\n",
      "Epoch 10/50\n",
      "14441/14441 [==============================] - 1s 41us/step - loss: 1551.7695 - val_loss: 1437.6923\n",
      "Epoch 11/50\n",
      "14441/14441 [==============================] - 1s 40us/step - loss: 1328.6419 - val_loss: 1222.9910\n",
      "Epoch 12/50\n",
      "14441/14441 [==============================] - 1s 39us/step - loss: 1142.7475 - val_loss: 1048.7031\n",
      "Epoch 13/50\n",
      "14441/14441 [==============================] - 1s 40us/step - loss: 986.8135 - val_loss: 907.3244\n",
      "Epoch 14/50\n",
      "14441/14441 [==============================] - 1s 40us/step - loss: 861.3243 - val_loss: 790.9678\n",
      "Epoch 15/50\n",
      "14441/14441 [==============================] - 1s 39us/step - loss: 763.7359 - val_loss: 697.5332\n",
      "Epoch 16/50\n",
      "14441/14441 [==============================] - 1s 39us/step - loss: 690.6257 - val_loss: 623.5163\n",
      "Epoch 17/50\n",
      "14441/14441 [==============================] - 1s 39us/step - loss: 628.0918 - val_loss: 563.8415\n",
      "Epoch 18/50\n",
      "14441/14441 [==============================] - 1s 38us/step - loss: 579.6543 - val_loss: 518.6741\n",
      "Epoch 19/50\n",
      "14441/14441 [==============================] - 1s 39us/step - loss: 536.5295 - val_loss: 483.7814\n",
      "Epoch 20/50\n",
      "14441/14441 [==============================] - 1s 39us/step - loss: 501.1069 - val_loss: 454.8044\n",
      "Epoch 21/50\n",
      "14441/14441 [==============================] - 1s 40us/step - loss: 489.1289 - val_loss: 434.6936\n",
      "Epoch 22/50\n",
      "14441/14441 [==============================] - 1s 39us/step - loss: 473.3543 - val_loss: 417.1913\n",
      "Epoch 23/50\n",
      "14441/14441 [==============================] - 1s 40us/step - loss: 456.5534 - val_loss: 406.9950\n",
      "Epoch 24/50\n",
      "14441/14441 [==============================] - 1s 40us/step - loss: 447.2114 - val_loss: 394.7898\n",
      "Epoch 25/50\n",
      "14441/14441 [==============================] - 1s 39us/step - loss: 442.1345 - val_loss: 389.0924\n",
      "Epoch 26/50\n",
      "14441/14441 [==============================] - 1s 39us/step - loss: 429.7498 - val_loss: 386.6597\n",
      "Epoch 27/50\n",
      "14441/14441 [==============================] - 1s 39us/step - loss: 428.4885 - val_loss: 381.1883\n",
      "Epoch 28/50\n",
      "14441/14441 [==============================] - 1s 39us/step - loss: 424.7004 - val_loss: 377.9715\n",
      "Epoch 29/50\n",
      "14441/14441 [==============================] - 1s 39us/step - loss: 426.8649 - val_loss: 377.0455\n",
      "Epoch 30/50\n",
      "14441/14441 [==============================] - 1s 39us/step - loss: 421.6017 - val_loss: 374.9795\n",
      "Epoch 31/50\n",
      "14441/14441 [==============================] - 1s 39us/step - loss: 419.7968 - val_loss: 373.7758\n",
      "Epoch 32/50\n",
      "14441/14441 [==============================] - 1s 39us/step - loss: 418.3315 - val_loss: 371.2607\n",
      "Epoch 33/50\n",
      "14441/14441 [==============================] - 1s 39us/step - loss: 415.3613 - val_loss: 371.1428\n",
      "Epoch 34/50\n",
      "14441/14441 [==============================] - 1s 39us/step - loss: 412.8543 - val_loss: 371.5168\n",
      "Epoch 35/50\n",
      "14441/14441 [==============================] - 1s 39us/step - loss: 414.4355 - val_loss: 369.3550\n",
      "Epoch 36/50\n",
      "14441/14441 [==============================] - 1s 39us/step - loss: 418.1643 - val_loss: 371.2925\n",
      "Epoch 37/50\n",
      "14441/14441 [==============================] - 1s 39us/step - loss: 410.6090 - val_loss: 368.8800\n",
      "Epoch 38/50\n",
      "14441/14441 [==============================] - 1s 39us/step - loss: 409.3669 - val_loss: 367.9285\n",
      "Epoch 39/50\n",
      "14441/14441 [==============================] - 1s 39us/step - loss: 413.4848 - val_loss: 366.3721\n",
      "Epoch 40/50\n",
      "14441/14441 [==============================] - 1s 39us/step - loss: 410.6808 - val_loss: 366.3624\n",
      "Epoch 41/50\n",
      "14441/14441 [==============================] - 1s 39us/step - loss: 411.5174 - val_loss: 366.7866\n",
      "Epoch 42/50\n",
      "14441/14441 [==============================] - 1s 40us/step - loss: 413.2765 - val_loss: 367.1936\n",
      "Epoch 43/50\n",
      "14441/14441 [==============================] - 1s 40us/step - loss: 414.3130 - val_loss: 365.5904\n",
      "Epoch 44/50\n",
      "14441/14441 [==============================] - 1s 40us/step - loss: 410.8881 - val_loss: 364.3305\n",
      "Epoch 45/50\n",
      "14441/14441 [==============================] - 1s 38us/step - loss: 409.1867 - val_loss: 364.2351\n",
      "Epoch 46/50\n",
      "14441/14441 [==============================] - 1s 40us/step - loss: 405.5703 - val_loss: 363.4633\n",
      "Epoch 47/50\n",
      "14441/14441 [==============================] - 1s 39us/step - loss: 413.2364 - val_loss: 363.2092\n",
      "Epoch 48/50\n",
      "14441/14441 [==============================] - 1s 39us/step - loss: 410.1440 - val_loss: 363.8149\n",
      "Epoch 49/50\n",
      "14441/14441 [==============================] - 1s 38us/step - loss: 404.6847 - val_loss: 362.5825\n",
      "Epoch 50/50\n",
      "14441/14441 [==============================] - 1s 39us/step - loss: 408.8900 - val_loss: 363.0456\n",
      "Training time: 1.386 minutes\n"
     ]
    }
   ],
   "source": [
    "start_time = time.clock()\n",
    "history = model.fit(\n",
    "    X_train,\n",
    "    y_train,\n",
    "    epochs=50,\n",
    "    batch_size=100,\n",
    "    validation_data=(X_valid, y_valid),verbose=1,shuffle=True)\n",
    "end_time = time.clock()\n",
    "print(\"Training time: {:.4} minutes\".format((end_time-start_time)/60))"
   ]
  },
  {
   "cell_type": "code",
   "execution_count": 17,
   "metadata": {},
   "outputs": [
    {
     "data": {
      "image/png": "[encoded data removed]",
      "text/plain": [
       "<Figure size 1152x432 with 1 Axes>"
      ]
     },
     "metadata": {},
     "output_type": "display_data"
    }
   ],
   "source": [
    "plt.plot(history.history['loss'], label='train')\n",
    "plt.plot(history.history['val_loss'], label='val') \n",
    "plt.legend()  \n",
    "plt.show()"
   ]
  },
  {
   "cell_type": "markdown",
   "metadata": {},
   "source": [
    "## 模型评估"
   ]
  },
  {
   "cell_type": "code",
   "execution_count": 18,
   "metadata": {},
   "outputs": [],
   "source": [
    "y_pred = model.predict(X_test)"
   ]
  },
  {
   "cell_type": "code",
   "execution_count": 19,
   "metadata": {},
   "outputs": [],
   "source": [
    "def rmse(predictions,targets):\n",
    "    return np.sqrt(((predictions-targets)**2).mean())"
   ]
  },
  {
   "cell_type": "code",
   "execution_count": 20,
   "metadata": {},
   "outputs": [],
   "source": [
    "my_rmse = rmse(y_pred,y_test)"
   ]
  },
  {
   "cell_type": "code",
   "execution_count": 21,
   "metadata": {},
   "outputs": [
    {
     "name": "stdout",
     "output_type": "stream",
     "text": [
      "Train rmse: 20.221028969722322\n",
      "Validation rmse: 19.053756412906484\n",
      "Test rmse: 72.87653201409756\n"
     ]
    }
   ],
   "source": [
    "print(\"Train rmse: {}\".format(np.sqrt(history.history['loss'][-1])))\n",
    "print(\"Validation rmse: {}\".format(np.sqrt(history.history['val_loss'][-1])))\n",
    "print(\"Test rmse: {}\".format(my_rmse))"
   ]
  },
  {
   "cell_type": "code",
   "execution_count": 22,
   "metadata": {},
   "outputs": [
    {
     "name": "stdout",
     "output_type": "stream",
     "text": [
      "_________________________________________________________________\n",
      "Layer (type)                 Output Shape              Param #   \n",
      "=================================================================\n",
      "bidirectional_1 (Bidirection (None, 100)               28800     \n",
      "_________________________________________________________________\n",
      "activation_1 (Activation)    (None, 100)               0         \n",
      "_________________________________________________________________\n",
      "dropout_1 (Dropout)          (None, 100)               0         \n",
      "_________________________________________________________________\n",
      "dense_1 (Dense)              (None, 50)                5050      \n",
      "_________________________________________________________________\n",
      "activation_2 (Activation)    (None, 50)                0         \n",
      "_________________________________________________________________\n",
      "dropout_2 (Dropout)          (None, 50)                0         \n",
      "_________________________________________________________________\n",
      "dense_2 (Dense)              (None, 1)                 51        \n",
      "_________________________________________________________________\n",
      "activation_3 (Activation)    (None, 1)                 0         \n",
      "=================================================================\n",
      "Total params: 33,901\n",
      "Trainable params: 33,901\n",
      "Non-trainable params: 0\n",
      "_________________________________________________________________\n"
     ]
    }
   ],
   "source": [
    "model.summary()"
   ]
  }
 ],
 "metadata": {
  "kernelspec": {
   "display_name": "Python 3",
   "language": "python",
   "name": "python3"
  },
  "language_info": {
   "codemirror_mode": {
    "name": "ipython",
    "version": 3
   },
   "file_extension": ".py",
   "mimetype": "text/x-python",
   "name": "python",
   "nbconvert_exporter": "python",
   "pygments_lexer": "ipython3",
   "version": "3.6.5"
  },
  "toc": {
   "base_numbering": 1,
   "nav_menu": {},
   "number_sections": true,
   "sideBar": true,
   "skip_h1_title": false,
   "title_cell": "Table of Contents",
   "title_sidebar": "Contents",
   "toc_cell": false,
   "toc_position": {
    "height": "689px",
    "left": "25px",
    "top": "180px",
    "width": "212px"
   },
   "toc_section_display": true,
   "toc_window_display": false
  },
  "varInspector": {
   "cols": {
    "lenName": 16,
    "lenType": 16,
    "lenVar": 40
   },
   "kernels_config": {
    "python": {
     "delete_cmd_postfix": "",
     "delete_cmd_prefix": "del ",
     "library": "var_list.py",
     "varRefreshCmd": "print(var_dic_list())"
    },
    "r": {
     "delete_cmd_postfix": ") ",
     "delete_cmd_prefix": "rm(",
     "library": "var_list.r",
     "varRefreshCmd": "cat(var_dic_list()) "
    }
   },
   "position": {
    "height": "144px",
    "left": "931px",
    "right": "20px",
    "top": "21px",
    "width": "350px"
   },
   "types_to_exclude": [
    "module",
    "function",
    "builtin_function_or_method",
    "instance",
    "_Feature"
   ],
   "window_display": false
  }
 },
 "nbformat": 4,
 "nbformat_minor": 2
}

{
 "cells": [
  {
   "cell_type": "code",
   "execution_count": 66,
   "metadata": {},
   "outputs": [],
   "source": [
    "import numpy as np\n",
    "import pandas as pd\n",
    "import matplotlib.pyplot as plt\n",
    "import matplotlib as mpl\n",
    "import tensorflow as tf\n",
    "from numpy.random import RandomState\n",
    "RandomState(2019)\n",
    "\n",
    "from keras.models import Sequential\n",
    "from keras.layers import Dense,Flatten,LSTM,Dropout,Activation,Bidirectional\n",
    "from keras.callbacks import ReduceLROnPlateau  #学习率自动变化\n",
    "from keras.callbacks import EarlyStopping\n",
    "\n",
    "\n",
    "import time\n",
    "from sklearn import preprocessing\n",
    "from sklearn.model_selection import train_test_split\n",
    "from sklearn.decomposition import PCA"
   ]
  },
  {
   "cell_type": "code",
   "execution_count": 67,
   "metadata": {},
   "outputs": [],
   "source": [
    "#matplotlib inline\n",
    "plt.rcParams['figure.figsize'] = 16,6\n",
    "plt.rcParams['xtick.color'] = 'w'  \n",
    "plt.rcParams['ytick.color'] = 'w'  \n",
    "mpl.style.use('ggplot')"
   ]
  },
  {
   "cell_type": "markdown",
   "metadata": {},
   "source": [
    "## 数据导入和处理"
   ]
  },
  {
   "cell_type": "code",
   "execution_count": 68,
   "metadata": {},
   "outputs": [],
   "source": [
    "train_df_path = r'../data/processed_data/train_df.csv'\n",
    "test_df_path = r'../data/processed_data/test_df.csv'"
   ]
  },
  {
   "cell_type": "code",
   "execution_count": 69,
   "metadata": {},
   "outputs": [],
   "source": [
    "train_df = pd.read_csv(train_df_path,index_col=0) #第一列作为index\n",
    "test_df = pd.read_csv(test_df_path,index_col=0)"
   ]
  },
  {
   "cell_type": "code",
   "execution_count": 70,
   "metadata": {},
   "outputs": [
    {
     "name": "stdout",
     "output_type": "stream",
     "text": [
      "<class 'pandas.core.frame.DataFrame'>\n",
      "Int64Index: 20631 entries, 0 to 20630\n",
      "Data columns (total 28 columns):\n",
      "id            20631 non-null int64\n",
      "cycle         20631 non-null int64\n",
      "setting1      20631 non-null float64\n",
      "setting2      20631 non-null float64\n",
      "setting3      20631 non-null float64\n",
      "s1            20631 non-null float64\n",
      "s2            20631 non-null float64\n",
      "s3            20631 non-null float64\n",
      "s4            20631 non-null float64\n",
      "s5            20631 non-null float64\n",
      "s6            20631 non-null float64\n",
      "s7            20631 non-null float64\n",
      "s8            20631 non-null float64\n",
      "s9            20631 non-null float64\n",
      "s10           20631 non-null float64\n",
      "s11           20631 non-null float64\n",
      "s12           20631 non-null float64\n",
      "s13           20631 non-null float64\n",
      "s14           20631 non-null float64\n",
      "s15           20631 non-null float64\n",
      "s16           20631 non-null float64\n",
      "s17           20631 non-null float64\n",
      "s18           20631 non-null float64\n",
      "s19           20631 non-null float64\n",
      "s20           20631 non-null float64\n",
      "s21           20631 non-null float64\n",
      "RUL           20631 non-null int64\n",
      "cycle_norm    20631 non-null float64\n",
      "dtypes: float64(25), int64(3)\n",
      "memory usage: 4.6 MB\n"
     ]
    }
   ],
   "source": [
    "train_df.info()"
   ]
  },
  {
   "cell_type": "code",
   "execution_count": 71,
   "metadata": {},
   "outputs": [
    {
     "name": "stdout",
     "output_type": "stream",
     "text": [
      "<class 'pandas.core.frame.DataFrame'>\n",
      "Int64Index: 13096 entries, 0 to 13095\n",
      "Data columns (total 28 columns):\n",
      "id            13096 non-null int64\n",
      "cycle         13096 non-null int64\n",
      "setting1      13096 non-null float64\n",
      "setting2      13096 non-null float64\n",
      "setting3      13096 non-null float64\n",
      "s1            13096 non-null float64\n",
      "s2            13096 non-null float64\n",
      "s3            13096 non-null float64\n",
      "s4            13096 non-null float64\n",
      "s5            13096 non-null float64\n",
      "s6            13096 non-null float64\n",
      "s7            13096 non-null float64\n",
      "s8            13096 non-null float64\n",
      "s9            13096 non-null float64\n",
      "s10           13096 non-null float64\n",
      "s11           13096 non-null float64\n",
      "s12           13096 non-null float64\n",
      "s13           13096 non-null float64\n",
      "s14           13096 non-null float64\n",
      "s15           13096 non-null float64\n",
      "s16           13096 non-null float64\n",
      "s17           13096 non-null float64\n",
      "s18           13096 non-null float64\n",
      "s19           13096 non-null float64\n",
      "s20           13096 non-null float64\n",
      "s21           13096 non-null float64\n",
      "cycle_norm    13096 non-null float64\n",
      "RUL           13096 non-null int64\n",
      "dtypes: float64(25), int64(3)\n",
      "memory usage: 2.9 MB\n"
     ]
    }
   ],
   "source": [
    "test_df.info()"
   ]
  },
  {
   "cell_type": "code",
   "execution_count": 72,
   "metadata": {},
   "outputs": [
    {
     "name": "stdout",
     "output_type": "stream",
     "text": [
      "train_df shape: (20631, 28)\n",
      "test_df shape: (13096, 28)\n"
     ]
    }
   ],
   "source": [
    "print(\"train_df shape: {}\".format(train_df.shape))\n",
    "print(\"test_df shape: {}\".format(test_df.shape))"
   ]
  },
  {
   "cell_type": "markdown",
   "metadata": {},
   "source": [
    "## 采用时间窗分割的方式改变数据的维度"
   ]
  },
  {
   "cell_type": "code",
   "execution_count": 73,
   "metadata": {},
   "outputs": [],
   "source": [
    "sequence_length = 30\n",
    "\n",
    "# 将数据格式变为(样本循环次数, 时间窗大小：30, 特征数)\n",
    "def gen_sequence(id_df, seq_length, seq_cols):\n",
    "    data_array = id_df[seq_cols].values\n",
    "    num_elements = data_array.shape[0]\n",
    "    for start, stop in zip(\n",
    "            range(0, num_elements - seq_length), range(seq_length,\n",
    "                                                       num_elements)):\n",
    "        yield data_array[start:stop, :]\n",
    "\n",
    "\n",
    "# 选择特征列\n",
    "sensor_cols = ['s' + str(i) for i in range(1, 22)]\n",
    "sequence_cols = ['setting1', 'setting2', 'setting3', 'cycle_norm']\n",
    "sequence_cols.extend(sensor_cols)\n",
    "\n",
    "# seq_array为用上函数生成的数组，其形状为(15631, 30, 25)\n",
    "seq_gen = (list(\n",
    "    gen_sequence(train_df[train_df['id'] == id], sequence_length,\n",
    "                 sequence_cols)) for id in train_df['id'].unique())\n",
    "seq_array = np.concatenate(list(seq_gen)).astype(np.float32)\n",
    "\n",
    "\n",
    "# 对应数据格式生成标签\n",
    "def gen_labels(id_df, seq_length, label):\n",
    "    data_array = id_df[label].values\n",
    "    num_elements = data_array.shape[0]\n",
    "    return data_array[seq_length:num_elements, :]\n",
    "\n",
    "\n",
    "# 标签的形状为(15631, 1)\n",
    "label_gen = [\n",
    "    gen_labels(train_df[train_df['id'] == id], sequence_length, ['RUL'])\n",
    "    for id in train_df['id'].unique()\n",
    "]\n",
    "label_array = np.concatenate(label_gen).astype(np.float32)\n",
    "\n",
    "# 生成test数据的最后一个序列，形状为(93, 50, 25)，不足100是因为有些测试集小于50\n",
    "seq_array_test_last = [\n",
    "    test_df[test_df['id'] == id][sequence_cols].values[-sequence_length:]\n",
    "    for id in test_df['id'].unique()\n",
    "    if len(test_df[test_df['id'] == id]) >= sequence_length\n",
    "]\n",
    "seq_array_test_last = np.asarray(seq_array_test_last).astype(np.float32)\n",
    "\n",
    "# 对应生成test的label，形状为(93, 1)\n",
    "y_mask = [\n",
    "    len(test_df[test_df['id'] == id]) >= sequence_length\n",
    "    for id in test_df['id'].unique()\n",
    "]\n",
    "label_array_test_last = test_df.groupby('id')['RUL'].nth(-1)[y_mask].values\n",
    "label_array_test_last = label_array_test_last.reshape(\n",
    "    label_array_test_last.shape[0], 1).astype(np.float32)\n",
    "# 建模##############################################\n",
    "\n",
    "nb_features = seq_array.shape[2]\n",
    "# nb_features == 25\n",
    "nb_out = label_array.shape[1]\n",
    "# nb_out ==1"
   ]
  },
  {
   "cell_type": "code",
   "execution_count": 74,
   "metadata": {
    "scrolled": true
   },
   "outputs": [
    {
     "name": "stdout",
     "output_type": "stream",
     "text": [
      "seq_array shape: (17631, 30, 25)\n",
      "label_array shape: (17631, 1)\n",
      "seq_array_test_last: (100, 30, 25)\n",
      "label_array_test_last: (100, 1)\n"
     ]
    }
   ],
   "source": [
    "print(\"seq_array shape: {}\".format(seq_array.shape))\n",
    "print(\"label_array shape: {}\".format(label_array.shape))\n",
    "print(\"seq_array_test_last: {}\".format(seq_array_test_last.shape))\n",
    "print(\"label_array_test_last: {}\".format(label_array_test_last.shape))"
   ]
  },
  {
   "cell_type": "code",
   "execution_count": 75,
   "metadata": {},
   "outputs": [],
   "source": [
    "X_train = seq_array\n",
    "y_train = label_array\n",
    "X_test = seq_array_test_last\n",
    "y_test = label_array_test_last"
   ]
  },
  {
   "cell_type": "code",
   "execution_count": 90,
   "metadata": {},
   "outputs": [
    {
     "data": {
      "text/plain": [
       "array([[112.],\n",
       "       [ 98.],\n",
       "       [ 69.],\n",
       "       [ 82.],\n",
       "       [ 91.],\n",
       "       [ 93.],\n",
       "       [ 91.],\n",
       "       [ 95.],\n",
       "       [111.],\n",
       "       [ 96.],\n",
       "       [ 97.],\n",
       "       [124.],\n",
       "       [ 95.],\n",
       "       [107.],\n",
       "       [ 83.],\n",
       "       [ 84.],\n",
       "       [ 50.],\n",
       "       [ 28.],\n",
       "       [ 87.],\n",
       "       [ 16.],\n",
       "       [ 57.],\n",
       "       [111.],\n",
       "       [113.],\n",
       "       [ 20.],\n",
       "       [145.],\n",
       "       [119.],\n",
       "       [ 66.],\n",
       "       [ 97.],\n",
       "       [ 90.],\n",
       "       [115.],\n",
       "       [  8.],\n",
       "       [ 48.],\n",
       "       [106.],\n",
       "       [  7.],\n",
       "       [ 11.],\n",
       "       [ 19.],\n",
       "       [ 21.],\n",
       "       [ 50.],\n",
       "       [142.],\n",
       "       [ 28.],\n",
       "       [ 18.],\n",
       "       [ 10.],\n",
       "       [ 59.],\n",
       "       [109.],\n",
       "       [114.],\n",
       "       [ 47.],\n",
       "       [135.],\n",
       "       [ 92.],\n",
       "       [ 21.],\n",
       "       [ 79.],\n",
       "       [114.],\n",
       "       [ 29.],\n",
       "       [ 26.],\n",
       "       [ 97.],\n",
       "       [137.],\n",
       "       [ 15.],\n",
       "       [103.],\n",
       "       [ 37.],\n",
       "       [114.],\n",
       "       [100.],\n",
       "       [ 21.],\n",
       "       [ 54.],\n",
       "       [ 72.],\n",
       "       [ 28.],\n",
       "       [128.],\n",
       "       [ 14.],\n",
       "       [ 77.],\n",
       "       [  8.],\n",
       "       [121.],\n",
       "       [ 94.],\n",
       "       [118.],\n",
       "       [ 50.],\n",
       "       [131.],\n",
       "       [126.],\n",
       "       [113.],\n",
       "       [ 10.],\n",
       "       [ 34.],\n",
       "       [107.],\n",
       "       [ 63.],\n",
       "       [ 90.],\n",
       "       [  8.],\n",
       "       [  9.],\n",
       "       [137.],\n",
       "       [ 58.],\n",
       "       [118.],\n",
       "       [ 89.],\n",
       "       [116.],\n",
       "       [115.],\n",
       "       [136.],\n",
       "       [ 28.],\n",
       "       [ 38.],\n",
       "       [ 20.],\n",
       "       [ 85.],\n",
       "       [ 55.],\n",
       "       [128.],\n",
       "       [137.],\n",
       "       [ 82.],\n",
       "       [ 59.],\n",
       "       [117.],\n",
       "       [ 20.]], dtype=float32)"
      ]
     },
     "execution_count": 90,
     "metadata": {},
     "output_type": "execute_result"
    }
   ],
   "source": [
    "y_test"
   ]
  },
  {
   "cell_type": "code",
   "execution_count": 76,
   "metadata": {},
   "outputs": [
    {
     "name": "stdout",
     "output_type": "stream",
     "text": [
      "(17631, 30, 25) (17631, 1) (100, 30, 25) (100, 1)\n"
     ]
    }
   ],
   "source": [
    "print(X_train.shape, y_train.shape, X_test.shape, y_test.shape)"
   ]
  },
  {
   "cell_type": "markdown",
   "metadata": {},
   "source": [
    "## 数据降维"
   ]
  },
  {
   "cell_type": "code",
   "execution_count": 77,
   "metadata": {},
   "outputs": [
    {
     "data": {
      "text/plain": [
       "(17631, 30, 25)"
      ]
     },
     "execution_count": 77,
     "metadata": {},
     "output_type": "execute_result"
    }
   ],
   "source": [
    "X_train.shape"
   ]
  },
  {
   "cell_type": "code",
   "execution_count": 78,
   "metadata": {},
   "outputs": [
    {
     "data": {
      "text/plain": [
       "'\\npca = PCA(n_components=10,random_state=2019,whiten=True)#whiten调整几乎没影响\\nX_all = np.concatenate((X_train,X_test))\\npca.fit(X_all,y=None)\\nX_all = pca.transform(X_all)\\nX_train = X_all[0:len(X_train)]\\nX_test = X_all[len(X_train):]\\n'"
      ]
     },
     "execution_count": 78,
     "metadata": {},
     "output_type": "execute_result"
    }
   ],
   "source": [
    "'''\n",
    "pca = PCA(n_components=10,random_state=2019,whiten=True)#whiten调整几乎没影响\n",
    "X_all = np.concatenate((X_train,X_test))\n",
    "pca.fit(X_all,y=None)\n",
    "X_all = pca.transform(X_all)\n",
    "X_train = X_all[0:len(X_train)]\n",
    "X_test = X_all[len(X_train):]\n",
    "'''"
   ]
  },
  {
   "cell_type": "markdown",
   "metadata": {},
   "source": [
    "**数据标准化**\n",
    "\n",
    "**注意：lstm-v1.ipynb使用归一化，效果不如标准化好。因为归一化受异常点的影响太大了。**"
   ]
  },
  {
   "cell_type": "code",
   "execution_count": 79,
   "metadata": {},
   "outputs": [
    {
     "data": {
      "text/plain": [
       "'\\n#min_max_scalar = preprocessing.MinMaxScaler()\\nstandard_scalar = preprocessing.StandardScaler()\\nX_train = standard_scalar.fit_transform(X_train)\\nX_test = standard_scalar.fit_transform(X_test)\\n'"
      ]
     },
     "execution_count": 79,
     "metadata": {},
     "output_type": "execute_result"
    }
   ],
   "source": [
    "'''\n",
    "#min_max_scalar = preprocessing.MinMaxScaler()\n",
    "standard_scalar = preprocessing.StandardScaler()\n",
    "X_train = standard_scalar.fit_transform(X_train)\n",
    "X_test = standard_scalar.fit_transform(X_test)\n",
    "'''"
   ]
  },
  {
   "cell_type": "code",
   "execution_count": 80,
   "metadata": {},
   "outputs": [
    {
     "name": "stdout",
     "output_type": "stream",
     "text": [
      "(17631, 30, 25) (17631, 1) (100, 30, 25) (100, 1)\n"
     ]
    }
   ],
   "source": [
    "print(X_train.shape, y_train.shape, X_test.shape, y_test.shape)"
   ]
  },
  {
   "cell_type": "markdown",
   "metadata": {},
   "source": [
    "现在X_train, y_train, X_test, y_test已经准备好了"
   ]
  },
  {
   "cell_type": "markdown",
   "metadata": {},
   "source": [
    "## 模型构建"
   ]
  },
  {
   "cell_type": "markdown",
   "metadata": {},
   "source": [
    "我们可以看到LSTM（）层必须指定输入的形状。而且每个LSTM层的输入必须是三维的。这输入的三个维度是：\n",
    "\n",
    "- samples。一个序列是一个样本。批次由一个或多个样本组成。\n",
    "\n",
    "- timesteps。一个时间步代表样本中的一个观察点。timesteps可以理解为循环神经网络认为每个输入数据与前多少个连续输入的数据有联系\n",
    "\n",
    "- features。一个特征是在一个时间步长的观察得到的。\n",
    "- 学习率。"
   ]
  },
  {
   "cell_type": "code",
   "execution_count": 81,
   "metadata": {},
   "outputs": [],
   "source": [
    "model = Sequential()"
   ]
  },
  {
   "cell_type": "code",
   "execution_count": 82,
   "metadata": {},
   "outputs": [],
   "source": [
    "model.add(\n",
    "    Bidirectional(LSTM(\n",
    "        50,\n",
    "        input_shape=(X_train.shape[1], X_train.shape[2]),\n",
    "        return_sequences=False)))\n",
    "model.add(Activation('tanh'))\n",
    "model.add(Dropout(0.4))\n",
    "\n",
    "#model.add(LSTM(40)\n",
    "#model.add(Activation('tanh'))\n",
    "#model.add(Dropout(0.2))\n",
    "model.add(Dense(50))\n",
    "model.add(Activation('tanh')) #不能用relu,否则容易梯度爆炸\n",
    "#model.add(Dropout(0.2))\n",
    "model.add(Dense(1))  \n",
    "model.add(Activation('linear'))\n",
    "\n",
    "model.compile(loss='mse', optimizer='adam')#rmsprop和adam差别不大"
   ]
  },
  {
   "cell_type": "markdown",
   "metadata": {},
   "source": [
    "## 模型训练"
   ]
  },
  {
   "cell_type": "markdown",
   "metadata": {},
   "source": [
    "可以调节的地方：\n",
    "- 训练时是否shuffle\n",
    "- LSTM神经元个数\n",
    "- timesteps\n",
    "- LSTM层数\n",
    "- batchsize\n",
    "- K折交叉验证"
   ]
  },
  {
   "cell_type": "code",
   "execution_count": 83,
   "metadata": {},
   "outputs": [
    {
     "name": "stdout",
     "output_type": "stream",
     "text": [
      "Train on 12341 samples, validate on 5290 samples\n",
      "Epoch 1/60\n",
      "12341/12341 [==============================] - 16s 1ms/step - loss: 5479.4862 - val_loss: 4413.3280\n",
      "Epoch 2/60\n",
      "12341/12341 [==============================] - 14s 1ms/step - loss: 3271.0859 - val_loss: 2907.5963\n",
      "Epoch 3/60\n",
      "12341/12341 [==============================] - 14s 1ms/step - loss: 2347.5946 - val_loss: 2275.1502\n",
      "Epoch 4/60\n",
      "12341/12341 [==============================] - 14s 1ms/step - loss: 2004.7188 - val_loss: 2041.3718\n",
      "Epoch 5/60\n",
      "12341/12341 [==============================] - 14s 1ms/step - loss: 1897.7588 - val_loss: 1962.4073\n",
      "Epoch 6/60\n",
      "12341/12341 [==============================] - 14s 1ms/step - loss: 1869.4337 - val_loss: 1936.1080\n",
      "Epoch 7/60\n",
      "12341/12341 [==============================] - 14s 1ms/step - loss: 1862.9052 - val_loss: 1926.8308\n",
      "Epoch 8/60\n",
      "12341/12341 [==============================] - 14s 1ms/step - loss: 1861.5817 - val_loss: 1923.2712\n",
      "Epoch 9/60\n",
      "12341/12341 [==============================] - 14s 1ms/step - loss: 1861.3611 - val_loss: 1921.8031\n",
      "Epoch 10/60\n",
      "12341/12341 [==============================] - 14s 1ms/step - loss: 1662.3427 - val_loss: 1046.4198\n",
      "Epoch 11/60\n",
      "12341/12341 [==============================] - 14s 1ms/step - loss: 914.6700 - val_loss: 843.3424\n",
      "Epoch 12/60\n",
      "12341/12341 [==============================] - 14s 1ms/step - loss: 700.5193 - val_loss: 710.0626\n",
      "Epoch 13/60\n",
      "12341/12341 [==============================] - 14s 1ms/step - loss: 593.3956 - val_loss: 626.7454\n",
      "Epoch 14/60\n",
      "12341/12341 [==============================] - 14s 1ms/step - loss: 532.0422 - val_loss: 551.3432\n",
      "Epoch 15/60\n",
      "12341/12341 [==============================] - 14s 1ms/step - loss: 476.3378 - val_loss: 524.9914\n",
      "Epoch 16/60\n",
      "12341/12341 [==============================] - 14s 1ms/step - loss: 426.6128 - val_loss: 440.5850\n",
      "Epoch 17/60\n",
      "12341/12341 [==============================] - 14s 1ms/step - loss: 403.5418 - val_loss: 421.2648\n",
      "Epoch 18/60\n",
      "12341/12341 [==============================] - 14s 1ms/step - loss: 380.8932 - val_loss: 376.7414\n",
      "Epoch 19/60\n",
      "12341/12341 [==============================] - 14s 1ms/step - loss: 361.7782 - val_loss: 333.6400\n",
      "Epoch 20/60\n",
      "12341/12341 [==============================] - 14s 1ms/step - loss: 348.0338 - val_loss: 327.9373\n",
      "Epoch 21/60\n",
      "12341/12341 [==============================] - 14s 1ms/step - loss: 333.2603 - val_loss: 331.5475\n",
      "Epoch 22/60\n",
      "12341/12341 [==============================] - 14s 1ms/step - loss: 318.9306 - val_loss: 308.6574\n",
      "Epoch 23/60\n",
      "12341/12341 [==============================] - 14s 1ms/step - loss: 312.1519 - val_loss: 299.5075\n",
      "Epoch 24/60\n",
      "12341/12341 [==============================] - 14s 1ms/step - loss: 309.3769 - val_loss: 324.4920\n",
      "Epoch 25/60\n",
      "12341/12341 [==============================] - 14s 1ms/step - loss: 302.9584 - val_loss: 331.5756\n",
      "Epoch 26/60\n",
      "12341/12341 [==============================] - 14s 1ms/step - loss: 303.1610 - val_loss: 305.6673\n",
      "Epoch 27/60\n",
      "12341/12341 [==============================] - 14s 1ms/step - loss: 293.4862 - val_loss: 300.2035\n",
      "Epoch 28/60\n",
      "12341/12341 [==============================] - 14s 1ms/step - loss: 289.3744 - val_loss: 310.5244\n",
      "Epoch 29/60\n",
      "12341/12341 [==============================] - 14s 1ms/step - loss: 286.6091 - val_loss: 298.0650\n",
      "Epoch 30/60\n",
      "12341/12341 [==============================] - 14s 1ms/step - loss: 284.3504 - val_loss: 302.5229\n",
      "Epoch 31/60\n",
      "12341/12341 [==============================] - 14s 1ms/step - loss: 279.4288 - val_loss: 300.0506\n",
      "Epoch 32/60\n",
      "12341/12341 [==============================] - 14s 1ms/step - loss: 277.9860 - val_loss: 302.1210\n",
      "Epoch 33/60\n",
      "12341/12341 [==============================] - 14s 1ms/step - loss: 274.4440 - val_loss: 297.9907\n",
      "Epoch 34/60\n",
      "12341/12341 [==============================] - 14s 1ms/step - loss: 278.1713 - val_loss: 300.7179\n",
      "Epoch 35/60\n",
      "12341/12341 [==============================] - 14s 1ms/step - loss: 275.4126 - val_loss: 303.8393\n",
      "Epoch 36/60\n",
      "12341/12341 [==============================] - 14s 1ms/step - loss: 274.3020 - val_loss: 304.6402\n",
      "Epoch 37/60\n",
      "12341/12341 [==============================] - 15s 1ms/step - loss: 272.6590 - val_loss: 281.1396\n",
      "Epoch 38/60\n",
      "12341/12341 [==============================] - 14s 1ms/step - loss: 262.1364 - val_loss: 284.3136\n",
      "Epoch 39/60\n",
      "12341/12341 [==============================] - 14s 1ms/step - loss: 268.2252 - val_loss: 268.5420\n",
      "Epoch 40/60\n",
      "12341/12341 [==============================] - 14s 1ms/step - loss: 264.9115 - val_loss: 273.3082\n",
      "Epoch 41/60\n",
      "12341/12341 [==============================] - 14s 1ms/step - loss: 258.2911 - val_loss: 277.9190\n",
      "Epoch 42/60\n",
      "12341/12341 [==============================] - 14s 1ms/step - loss: 265.4081 - val_loss: 232.4672\n",
      "Epoch 43/60\n",
      "12341/12341 [==============================] - 14s 1ms/step - loss: 262.6296 - val_loss: 268.3914\n",
      "Epoch 44/60\n",
      "12341/12341 [==============================] - 14s 1ms/step - loss: 260.8446 - val_loss: 238.1835\n",
      "Epoch 45/60\n",
      "12341/12341 [==============================] - 14s 1ms/step - loss: 246.9506 - val_loss: 436.2338\n",
      "Epoch 46/60\n",
      "12341/12341 [==============================] - 14s 1ms/step - loss: 306.6665 - val_loss: 283.1080\n",
      "Epoch 47/60\n",
      "12341/12341 [==============================] - 14s 1ms/step - loss: 259.8864 - val_loss: 327.5389\n",
      "Epoch 48/60\n",
      "12341/12341 [==============================] - 14s 1ms/step - loss: 259.9213 - val_loss: 315.3399\n",
      "Epoch 49/60\n",
      "12341/12341 [==============================] - 14s 1ms/step - loss: 260.6608 - val_loss: 302.0606\n",
      "Epoch 50/60\n",
      "12341/12341 [==============================] - 14s 1ms/step - loss: 252.6305 - val_loss: 310.4129\n",
      "Epoch 51/60\n",
      "12341/12341 [==============================] - 14s 1ms/step - loss: 250.8776 - val_loss: 261.0804\n",
      "Epoch 52/60\n",
      "12341/12341 [==============================] - 14s 1ms/step - loss: 239.4831 - val_loss: 318.0114\n",
      "Epoch 00052: early stopping\n",
      "Training time: 40.53 minutes\n"
     ]
    }
   ],
   "source": [
    "#10个epoch loss不下降，就降低学习率\n",
    "#reduce_lr = ReduceLROnPlateau(monitor='val_loss', patience=5,verbose=1 mode='auto')\n",
    "early_stopping = EarlyStopping(monitor='val_loss', patience=10, verbose=1)\n",
    "\n",
    "start_time = time.clock()\n",
    "history = model.fit(\n",
    "    X_train,\n",
    "    y_train,\n",
    "    epochs=40,\n",
    "    batch_size=20, #从100降到了10  一般来说，小batch精度更高，但是训练速度更慢\n",
    "    validation_split=0.3,\n",
    "    #validation_data=(X_valid, y_valid),\n",
    "    callbacks=[early_stopping],\n",
    "    verbose=1,\n",
    "    shuffle=False)  #shuffle=False比True时测试集rmse降低了1\n",
    "end_time = time.clock()\n",
    "print(\"Training time: {:.4} minutes\".format((end_time - start_time) / 60))"
   ]
  },
  {
   "cell_type": "code",
   "execution_count": 84,
   "metadata": {},
   "outputs": [
    {
     "data": {
      "image/png": "[encoded data removed]",
      "text/plain": [
       "<Figure size 1152x432 with 1 Axes>"
      ]
     },
     "metadata": {},
     "output_type": "display_data"
    }
   ],
   "source": [
    "plt.plot(history.history['loss'], label='train')\n",
    "plt.plot(history.history['val_loss'], label='val') \n",
    "plt.legend()  \n",
    "plt.show()"
   ]
  },
  {
   "cell_type": "markdown",
   "metadata": {},
   "source": [
    "## 模型评估"
   ]
  },
  {
   "cell_type": "code",
   "execution_count": 85,
   "metadata": {},
   "outputs": [],
   "source": [
    "y_pred = model.predict(X_test)"
   ]
  },
  {
   "cell_type": "code",
   "execution_count": 86,
   "metadata": {},
   "outputs": [],
   "source": [
    "def rmse(predictions,targets):\n",
    "    return np.sqrt(((predictions-targets)**2).mean())"
   ]
  },
  {
   "cell_type": "code",
   "execution_count": 87,
   "metadata": {},
   "outputs": [],
   "source": [
    "my_rmse = rmse(y_pred,y_test)"
   ]
  },
  {
   "cell_type": "code",
   "execution_count": 88,
   "metadata": {},
   "outputs": [
    {
     "name": "stdout",
     "output_type": "stream",
     "text": [
      "Train rmse: 15.475240435511536\n",
      "Validation rmse: 17.8328742561535\n",
      "Test rmse: 17.827173233032227\n"
     ]
    }
   ],
   "source": [
    "print(\"Train rmse: {}\".format(np.sqrt(history.history['loss'][-1])))\n",
    "print(\"Validation rmse: {}\".format(np.sqrt(history.history['val_loss'][-1])))\n",
    "print(\"Test rmse: {}\".format(my_rmse))"
   ]
  },
  {
   "cell_type": "code",
   "execution_count": 89,
   "metadata": {},
   "outputs": [
    {
     "name": "stdout",
     "output_type": "stream",
     "text": [
      "_________________________________________________________________\n",
      "Layer (type)                 Output Shape              Param #   \n",
      "=================================================================\n",
      "bidirectional_4 (Bidirection (None, 100)               30400     \n",
      "_________________________________________________________________\n",
      "activation_10 (Activation)   (None, 100)               0         \n",
      "_________________________________________________________________\n",
      "dropout_4 (Dropout)          (None, 100)               0         \n",
      "_________________________________________________________________\n",
      "dense_7 (Dense)              (None, 50)                5050      \n",
      "_________________________________________________________________\n",
      "activation_11 (Activation)   (None, 50)                0         \n",
      "_________________________________________________________________\n",
      "dense_8 (Dense)              (None, 1)                 51        \n",
      "_________________________________________________________________\n",
      "activation_12 (Activation)   (None, 1)                 0         \n",
      "=================================================================\n",
      "Total params: 35,501\n",
      "Trainable params: 35,501\n",
      "Non-trainable params: 0\n",
      "_________________________________________________________________\n"
     ]
    }
   ],
   "source": [
    "model.summary()"
   ]
  }
 ],
 "metadata": {
  "kernelspec": {
   "display_name": "Python 3",
   "language": "python",
   "name": "python3"
  },
  "language_info": {
   "codemirror_mode": {
    "name": "ipython",
    "version": 3
   },
   "file_extension": ".py",
   "mimetype": "text/x-python",
   "name": "python",
   "nbconvert_exporter": "python",
   "pygments_lexer": "ipython3",
   "version": "3.6.5"
  },
  "toc": {
   "base_numbering": 1,
   "nav_menu": {},
   "number_sections": true,
   "sideBar": true,
   "skip_h1_title": false,
   "title_cell": "Table of Contents",
   "title_sidebar": "Contents",
   "toc_cell": false,
   "toc_position": {
    "height": "689px",
    "left": "25px",
    "top": "180px",
    "width": "212px"
   },
   "toc_section_display": true,
   "toc_window_display": false
  },
  "varInspector": {
   "cols": {
    "lenName": 16,
    "lenType": 16,
    "lenVar": 40
   },
   "kernels_config": {
    "python": {
     "delete_cmd_postfix": "",
     "delete_cmd_prefix": "del ",
     "library": "var_list.py",
     "varRefreshCmd": "print(var_dic_list())"
    },
    "r": {
     "delete_cmd_postfix": ") ",
     "delete_cmd_prefix": "rm(",
     "library": "var_list.r",
     "varRefreshCmd": "cat(var_dic_list()) "
    }
   },
   "position": {
    "height": "144px",
    "left": "931px",
    "right": "20px",
    "top": "21px",
    "width": "350px"
   },
   "types_to_exclude": [
    "module",
    "function",
    "builtin_function_or_method",
    "instance",
    "_Feature"
   ],
   "window_display": false
  }
 },
 "nbformat": 4,
 "nbformat_minor": 2
}

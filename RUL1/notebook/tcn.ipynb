{
 "cells": [
  {
   "cell_type": "code",
   "execution_count": 16,
   "metadata": {},
   "outputs": [
    {
     "ename": "ImportError",
     "evalue": "cannot import name 'TCN'",
     "output_type": "error",
     "traceback": [
      "\u001b[1;31m---------------------------------------------------------------------------\u001b[0m",
      "\u001b[1;31mImportError\u001b[0m                               Traceback (most recent call last)",
      "\u001b[1;32m<ipython-input-16-16557e3c6144>\u001b[0m in \u001b[0;36m<module>\u001b[1;34m()\u001b[0m\n\u001b[0;32m      8\u001b[0m \u001b[1;32mimport\u001b[0m \u001b[0msys\u001b[0m\u001b[1;33m\u001b[0m\u001b[0m\n\u001b[0;32m      9\u001b[0m \u001b[0msys\u001b[0m\u001b[1;33m.\u001b[0m\u001b[0mpath\u001b[0m\u001b[1;33m.\u001b[0m\u001b[0mappend\u001b[0m\u001b[1;33m(\u001b[0m\u001b[1;34m\"../\"\u001b[0m\u001b[1;33m)\u001b[0m\u001b[1;33m\u001b[0m\u001b[0m\n\u001b[1;32m---> 10\u001b[1;33m \u001b[1;32mfrom\u001b[0m \u001b[0mutils\u001b[0m\u001b[1;33m.\u001b[0m\u001b[0mtcn\u001b[0m \u001b[1;32mimport\u001b[0m \u001b[0mTCN\u001b[0m\u001b[1;33m\u001b[0m\u001b[0m\n\u001b[0m\u001b[0;32m     11\u001b[0m \u001b[1;33m\u001b[0m\u001b[0m\n\u001b[0;32m     12\u001b[0m \u001b[1;32mimport\u001b[0m \u001b[0mmatplotlib\u001b[0m\u001b[1;33m.\u001b[0m\u001b[0mpyplot\u001b[0m \u001b[1;32mas\u001b[0m \u001b[0mplt\u001b[0m\u001b[1;33m\u001b[0m\u001b[0m\n",
      "\u001b[1;31mImportError\u001b[0m: cannot import name 'TCN'"
     ]
    }
   ],
   "source": [
    "# coding: utf-8\n",
    "\n",
    "import numpy as np\n",
    "import pandas as pd\n",
    "import torch\n",
    "import torchvision\n",
    "from torchsummary import summary\n",
    "import sys\n",
    "sys.path.append(\"../\")\n",
    "from utils.tcn import TCN\n",
    "\n",
    "import matplotlib.pyplot as plt\n",
    "import matplotlib as mpl\n",
    "\n",
    "#matplotlib inline\n",
    "plt.rcParams['figure.figsize'] = 16,6\n",
    "plt.rcParams['xtick.color'] = 'w'  \n",
    "plt.rcParams['ytick.color'] = 'w'  \n",
    "mpl.style.use('ggplot')\n",
    "font1 = {'family' : 'Times New Roman' , 'weight' : 'normal','size': 23}\n",
    "font2 = {'family' : 'Times New Roman' , 'weight' : 'normal','size': 18}"
   ]
  },
  {
   "cell_type": "code",
   "execution_count": 4,
   "metadata": {},
   "outputs": [],
   "source": [
    "#主要的超参数\n",
    "\"\"\"\n",
    "parser = argparse.ArgumentParser(description='1dcnn+blstm+fc')\n",
    "parser.add_argument('--seed', default=0, type=int, help='random seed')\n",
    "parser.add_argument('--sequence_length', default=110, type=int, help='sequence_length')\n",
    "parser.add_argument('--lstm1', default=300, type=int, help='lstm1')\n",
    "parser.add_argument('--lstm2', default=300, type=int, help='lstm2')\n",
    "parser.add_argument('--dense1', default=50, type=int, help='dense1')\n",
    "parser.add_argument('--dropout1', default=0.4, type=float, help='dropout1')\n",
    "parser.add_argument('--dropout2', default=0.4, type=float, help='dropout2')\n",
    "parser.add_argument('--epochs', default=1, type=int, help='epochs')\n",
    "parser.add_argument('--batch_size', default=100, type=int, help='batch_size')\n",
    "parser.add_argument('--lr', default=2e-2, type=float, help='learning rate')\n",
    "parser.add_argument('--weight_decay', default=1e-4, type=float, help='weight_decay')\n",
    "parser.add_argument('--test', default='0', type=str, help='input model file name, then it will be tested')\n",
    "parser.add_argument('--filters1', default=16, type=int, help='filters1')\n",
    "parser.add_argument('--filters2', default=32, type=int, help='filters2')\n",
    "\n",
    "args = parser.parse_args()\n",
    "print(args)\n",
    "\"\"\"\n",
    "args_seed = 0\n",
    "args_sequence_length = 110\n",
    "args_lstm1 = 300\n",
    "args_lstm2 = 300\n",
    "args_dense1 = 50\n",
    "args_dropout1 = 0.4\n",
    "args_dropout2 = 0.4\n",
    "args_epochs = 10\n",
    "args_batch_size = 100\n",
    "args_lr = 2e-2\n",
    "args_weight_decay = 1e-4\n",
    "args_test = '0'\n",
    "args_filters1 = 16\n",
    "args_filters2 = 32\n",
    "\n",
    "# seed\n",
    "np.random.seed(args_seed)\n",
    "torch.manual_seed(args_seed)\n",
    "torch.cuda.manual_seed_all(0)\n",
    "\n",
    "# ## 数据导入和处理\n",
    "train_df_path = r'../data/processed_data/train_df.csv'\n",
    "test_df_path = r'../data/processed_data/test_df.csv'\n",
    "data_master_thesis_path = r'../../data/data_master_thesis'\n",
    "\n",
    "train_df = pd.read_csv(train_df_path,index_col=0) #第一列作为index\n",
    "test_df = pd.read_csv(test_df_path,index_col=0)\n",
    "\n",
    "#print(\"train_df shape: {}\".format(train_df.shape))\n",
    "#print(\"test_df shape: {}\".format(test_df.shape))\n",
    "\n",
    "\n",
    "# ## 定义X_train, y_train, X_test, y_train\n",
    "\n",
    "\n",
    "X_train = train_df.iloc[:,5:26]\n",
    "y_train = train_df.iloc[:,-2]\n",
    "\n",
    "X_train = np.array(X_train)\n",
    "y_train = np.array(y_train)\n",
    "\n",
    "X_test = test_df.iloc[:,5:26]\n",
    "y_test = test_df.iloc[:,-1]#注意，test_df中RUL列是最后一列，\n",
    "                           #但是，测试集的RUL不是test_df的RUL对应的列\n",
    "\n",
    "X_test = np.array(X_test)\n",
    "y_test = np.array(y_test)\n",
    "\n",
    "#print(\"X_train.shape: {}, y_train.shape: {}, X_test.shape: {}, y_test.shape: {}\".format(X_train.shape, y_train.shape, X_test.shape, y_test.shape))"
   ]
  },
  {
   "cell_type": "code",
   "execution_count": 5,
   "metadata": {},
   "outputs": [
    {
     "name": "stdout",
     "output_type": "stream",
     "text": [
      "X_train.shape: (9631, 110, 25), y_train.shape: (9631, 1), X_test.shape: (67, 110, 25), y_test.shape: (67, 1)\n"
     ]
    }
   ],
   "source": [
    "# ## 采用时间窗分割的方式改变数据的维度\n",
    "\n",
    "\n",
    "# 将数据格式变为(样本循环次数, 时间窗大小：30, 特征数)\n",
    "def gen_sequence(id_df, seq_length, seq_cols):\n",
    "    data_array = id_df[seq_cols].values\n",
    "    num_elements = data_array.shape[0]\n",
    "    for start, stop in zip(\n",
    "            range(0, num_elements - seq_length), range(seq_length,\n",
    "                                                       num_elements)):\n",
    "        yield data_array[start:stop, :]\n",
    "\n",
    "\n",
    "# 选择特征列\n",
    "sensor_cols = ['s' + str(i) for i in range(1, 22)]\n",
    "sequence_cols = ['setting1', 'setting2', 'setting3', 'cycle_norm']\n",
    "sequence_cols.extend(sensor_cols)\n",
    "\n",
    "# seq_array为用上函数生成的数组，其形状为(15631, 30, 25)\n",
    "seq_gen = (list(\n",
    "    gen_sequence(train_df[train_df['id'] == id], args_sequence_length,\n",
    "                 sequence_cols)) for id in train_df['id'].unique())\n",
    "seq_array = np.concatenate(list(seq_gen)).astype(np.float32)\n",
    "\n",
    "\n",
    "# 对应数据格式生成标签\n",
    "def gen_labels(id_df, seq_length, label):\n",
    "    data_array = id_df[label].values\n",
    "    num_elements = data_array.shape[0]\n",
    "    return data_array[seq_length:num_elements, :]\n",
    "\n",
    "# 标签的形状为(15631, 1)\n",
    "label_gen = [\n",
    "    gen_labels(train_df[train_df['id'] == id], args_sequence_length, ['RUL'])\n",
    "    for id in train_df['id'].unique()\n",
    "]\n",
    "label_array = np.concatenate(label_gen).astype(np.float32)\n",
    "\n",
    "\n",
    "# 生成test数据的最后一个序列，形状为(93, 50, 25)，不足100是因为有些测试集小于50\n",
    "seq_array_test_last = [\n",
    "    test_df[test_df['id'] == id][sequence_cols].values[-args_sequence_length:]\n",
    "    for id in test_df['id'].unique()\n",
    "    if len(test_df[test_df['id'] == id]) >= args_sequence_length\n",
    "]\n",
    "seq_array_test_last = np.asarray(seq_array_test_last).astype(np.float32)\n",
    "\n",
    "# 对应生成test的label，形状为(93, 1)\n",
    "y_mask = [\n",
    "    len(test_df[test_df['id'] == id]) >= args_sequence_length\n",
    "    for id in test_df['id'].unique()\n",
    "]\n",
    "label_array_test_last = test_df.groupby('id')['RUL'].nth(-1)[y_mask].values\n",
    "label_array_test_last = label_array_test_last.reshape(\n",
    "    label_array_test_last.shape[0], 1).astype(np.float32)\n",
    "\n",
    "X_train = seq_array\n",
    "y_train = label_array\n",
    "X_test = seq_array_test_last\n",
    "y_test = label_array_test_last\n",
    "\n",
    "print(\"X_train.shape: {}, y_train.shape: {}, X_test.shape: {}, y_test.shape: {}\".format(X_train.shape, y_train.shape, X_test.shape, y_test.shape))\n",
    "\n",
    "# 现在X_train, y_train, X_test, y_test已经准备好了\n",
    "def get_rmse(predictions, targets):\n",
    "    return np.sqrt(((predictions - targets) ** 2).mean())"
   ]
  },
  {
   "cell_type": "code",
   "execution_count": 13,
   "metadata": {},
   "outputs": [
    {
     "ename": "TypeError",
     "evalue": "unsupported operand type(s) for %: 'list' and 'int'",
     "output_type": "error",
     "traceback": [
      "\u001b[1;31m---------------------------------------------------------------------------\u001b[0m",
      "\u001b[1;31mTypeError\u001b[0m                                 Traceback (most recent call last)",
      "\u001b[1;32m<ipython-input-13-4fbaf1c798ee>\u001b[0m in \u001b[0;36m<module>\u001b[1;34m()\u001b[0m\n\u001b[1;32m----> 1\u001b[1;33m \u001b[0mmodel\u001b[0m \u001b[1;33m=\u001b[0m \u001b[0mTemporalConvNet\u001b[0m\u001b[1;33m(\u001b[0m\u001b[0mnum_inputs\u001b[0m\u001b[1;33m=\u001b[0m\u001b[1;33m[\u001b[0m\u001b[1;36m9631\u001b[0m\u001b[1;33m,\u001b[0m \u001b[1;36m110\u001b[0m\u001b[1;33m,\u001b[0m \u001b[1;36m25\u001b[0m\u001b[1;33m]\u001b[0m\u001b[1;33m,\u001b[0m \u001b[0mnum_channels\u001b[0m\u001b[1;33m=\u001b[0m\u001b[1;33m[\u001b[0m\u001b[1;36m25\u001b[0m\u001b[1;33m,\u001b[0m \u001b[1;36m12\u001b[0m\u001b[1;33m,\u001b[0m \u001b[1;36m12\u001b[0m\u001b[1;33m]\u001b[0m\u001b[1;33m)\u001b[0m\u001b[1;33m\u001b[0m\u001b[0m\n\u001b[0m\u001b[0;32m      2\u001b[0m \u001b[0msummary\u001b[0m\u001b[1;33m(\u001b[0m\u001b[0mmodel\u001b[0m\u001b[1;33m,\u001b[0m \u001b[0mX_train\u001b[0m\u001b[1;33m,\u001b[0m \u001b[0mbatch_size\u001b[0m\u001b[1;33m=\u001b[0m\u001b[0margs_batch_size\u001b[0m\u001b[1;33m)\u001b[0m\u001b[1;33m\u001b[0m\u001b[0m\n",
      "\u001b[1;32mD:\\git\\master-thesis\\notebook\\utils\\tcn.py\u001b[0m in \u001b[0;36m__init__\u001b[1;34m(self, num_inputs, num_channels, kernel_size, dropout)\u001b[0m\n",
      "\u001b[1;32mD:\\git\\master-thesis\\notebook\\utils\\tcn.py\u001b[0m in \u001b[0;36m__init__\u001b[1;34m(self, n_inputs, n_outputs, kernel_size, stride, dilation, padding, dropout)\u001b[0m\n",
      "\u001b[1;32mD:\\Programs\\anaconda\\lib\\site-packages\\torch\\nn\\modules\\conv.py\u001b[0m in \u001b[0;36m__init__\u001b[1;34m(self, in_channels, out_channels, kernel_size, stride, padding, dilation, groups, bias, padding_mode)\u001b[0m\n\u001b[0;32m    184\u001b[0m         super(Conv1d, self).__init__(\n\u001b[0;32m    185\u001b[0m             \u001b[0min_channels\u001b[0m\u001b[1;33m,\u001b[0m \u001b[0mout_channels\u001b[0m\u001b[1;33m,\u001b[0m \u001b[0mkernel_size\u001b[0m\u001b[1;33m,\u001b[0m \u001b[0mstride\u001b[0m\u001b[1;33m,\u001b[0m \u001b[0mpadding\u001b[0m\u001b[1;33m,\u001b[0m \u001b[0mdilation\u001b[0m\u001b[1;33m,\u001b[0m\u001b[1;33m\u001b[0m\u001b[0m\n\u001b[1;32m--> 186\u001b[1;33m             False, _single(0), groups, bias, padding_mode)\n\u001b[0m\u001b[0;32m    187\u001b[0m \u001b[1;33m\u001b[0m\u001b[0m\n\u001b[0;32m    188\u001b[0m     \u001b[1;33m@\u001b[0m\u001b[0mweak_script_method\u001b[0m\u001b[1;33m\u001b[0m\u001b[0m\n",
      "\u001b[1;32mD:\\Programs\\anaconda\\lib\\site-packages\\torch\\nn\\modules\\conv.py\u001b[0m in \u001b[0;36m__init__\u001b[1;34m(self, in_channels, out_channels, kernel_size, stride, padding, dilation, transposed, output_padding, groups, bias, padding_mode)\u001b[0m\n\u001b[0;32m     19\u001b[0m                  groups, bias, padding_mode):\n\u001b[0;32m     20\u001b[0m         \u001b[0msuper\u001b[0m\u001b[1;33m(\u001b[0m\u001b[0m_ConvNd\u001b[0m\u001b[1;33m,\u001b[0m \u001b[0mself\u001b[0m\u001b[1;33m)\u001b[0m\u001b[1;33m.\u001b[0m\u001b[0m__init__\u001b[0m\u001b[1;33m(\u001b[0m\u001b[1;33m)\u001b[0m\u001b[1;33m\u001b[0m\u001b[0m\n\u001b[1;32m---> 21\u001b[1;33m         \u001b[1;32mif\u001b[0m \u001b[0min_channels\u001b[0m \u001b[1;33m%\u001b[0m \u001b[0mgroups\u001b[0m \u001b[1;33m!=\u001b[0m \u001b[1;36m0\u001b[0m\u001b[1;33m:\u001b[0m\u001b[1;33m\u001b[0m\u001b[0m\n\u001b[0m\u001b[0;32m     22\u001b[0m             \u001b[1;32mraise\u001b[0m \u001b[0mValueError\u001b[0m\u001b[1;33m(\u001b[0m\u001b[1;34m'in_channels must be divisible by groups'\u001b[0m\u001b[1;33m)\u001b[0m\u001b[1;33m\u001b[0m\u001b[0m\n\u001b[0;32m     23\u001b[0m         \u001b[1;32mif\u001b[0m \u001b[0mout_channels\u001b[0m \u001b[1;33m%\u001b[0m \u001b[0mgroups\u001b[0m \u001b[1;33m!=\u001b[0m \u001b[1;36m0\u001b[0m\u001b[1;33m:\u001b[0m\u001b[1;33m\u001b[0m\u001b[0m\n",
      "\u001b[1;31mTypeError\u001b[0m: unsupported operand type(s) for %: 'list' and 'int'"
     ]
    }
   ],
   "source": [
    "model = TemporalConvNet(num_inputs=[9631, 110, 25], num_channels=[25, 12, 12])\n",
    "summary(model, X_train, batch_size=args_batch_size)"
   ]
  }
 ],
 "metadata": {
  "kernelspec": {
   "display_name": "Python 3",
   "language": "python",
   "name": "python3"
  },
  "language_info": {
   "codemirror_mode": {
    "name": "ipython",
    "version": 3
   },
   "file_extension": ".py",
   "mimetype": "text/x-python",
   "name": "python",
   "nbconvert_exporter": "python",
   "pygments_lexer": "ipython3",
   "version": "3.6.5"
  },
  "toc": {
   "base_numbering": 1,
   "nav_menu": {},
   "number_sections": true,
   "sideBar": true,
   "skip_h1_title": false,
   "title_cell": "Table of Contents",
   "title_sidebar": "Contents",
   "toc_cell": false,
   "toc_position": {},
   "toc_section_display": true,
   "toc_window_display": false
  },
  "varInspector": {
   "cols": {
    "lenName": 16,
    "lenType": 16,
    "lenVar": 40
   },
   "kernels_config": {
    "python": {
     "delete_cmd_postfix": "",
     "delete_cmd_prefix": "del ",
     "library": "var_list.py",
     "varRefreshCmd": "print(var_dic_list())"
    },
    "r": {
     "delete_cmd_postfix": ") ",
     "delete_cmd_prefix": "rm(",
     "library": "var_list.r",
     "varRefreshCmd": "cat(var_dic_list()) "
    }
   },
   "types_to_exclude": [
    "module",
    "function",
    "builtin_function_or_method",
    "instance",
    "_Feature"
   ],
   "window_display": false
  }
 },
 "nbformat": 4,
 "nbformat_minor": 2
}
